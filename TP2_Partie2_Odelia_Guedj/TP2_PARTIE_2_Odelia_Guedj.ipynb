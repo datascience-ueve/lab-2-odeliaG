{
 "cells": [
  {
   "cell_type": "markdown",
   "metadata": {},
   "source": [
    "# TP 2. PARTIE 2. Analyse du jeu de données vowel\n"
   ]
  },
  {
   "cell_type": "markdown",
   "metadata": {},
   "source": [
    "## Plan :\n",
    "\n",
    "   - Exploration des données \n",
    "\n",
    "   - Naive Bayes\n",
    "   \n",
    "   - LDA\n",
    "   \n",
    "   - QDA\n",
    "   \n",
    "   - k-NN avec cross validation\n",
    "   \n",
    "   - Decision Trees avec cross validation\n",
    "   \n",
    "   - Choix meilleur Classifieur"
   ]
  },
  {
   "cell_type": "markdown",
   "metadata": {},
   "source": [
    "Tous les graphes et images sont enregistrés et inclus dans le fichier déposé sur github."
   ]
  },
  {
   "cell_type": "code",
   "execution_count": 132,
   "metadata": {},
   "outputs": [],
   "source": [
    "#Données\n",
    "import numpy as np\n",
    "import pandas as pd\n",
    "\n",
    "#Graphes\n",
    "import graphviz\n",
    "from graphviz import Source\n",
    "from IPython.display import SVG\n",
    "import seaborn as sns\n",
    "import matplotlib.pyplot as plt\n",
    "from matplotlib.colors import ListedColormap\n",
    "%matplotlib inline\n",
    "from sklearn import tree\n",
    "from sklearn.tree import export_graphviz\n",
    "from sklearn.metrics import accuracy_score\n",
    "from sklearn.metrics import mean_squared_error\n",
    "from sklearn.model_selection import RepeatedKFold\n",
    "from sklearn.model_selection import cross_val_score\n",
    "\n",
    "#Methodes/Classifieurs\n",
    "from sklearn.naive_bayes import GaussianNB\n",
    "from sklearn.discriminant_analysis import LinearDiscriminantAnalysis\n",
    "from sklearn.discriminant_analysis import QuadraticDiscriminantAnalysis\n",
    "from sklearn.neighbors import KNeighborsClassifier\n",
    "from sklearn.tree import DecisionTreeClassifier\n",
    "from sklearn.model_selection import GridSearchCV\n"
   ]
  },
  {
   "cell_type": "code",
   "execution_count": 133,
   "metadata": {},
   "outputs": [],
   "source": [
    "names = [\"Naive Bayes\", \"LDA\", \"QDA\",\"KNN\", \"Decisions Tree\"]\n",
    "classifiers = [\n",
    "    GaussianNB(),\n",
    "    LinearDiscriminantAnalysis(),\n",
    "    QuadraticDiscriminantAnalysis(),\n",
    "    KNeighborsClassifier(),\n",
    "    DecisionTreeClassifier()\n",
    "    ]"
   ]
  },
  {
   "cell_type": "markdown",
   "metadata": {},
   "source": [
    "# 1. Dataset Vowel : Exploration des données\n"
   ]
  },
  {
   "cell_type": "markdown",
   "metadata": {},
   "source": [
    "https://web.stanford.edu/~hastie/ElemStatLearn/data.html"
   ]
  },
  {
   "cell_type": "markdown",
   "metadata": {},
   "source": [
    "#### Description des données"
   ]
  },
  {
   "cell_type": "markdown",
   "metadata": {},
   "source": [
    "Speaker independent recognition of the eleven steady state vowels\n",
    "of British English using a specified training set of lpc derived log area\n",
    "ratios."
   ]
  },
  {
   "cell_type": "markdown",
   "metadata": {},
   "source": [
    "#### Importation des données train et test"
   ]
  },
  {
   "cell_type": "code",
   "execution_count": 136,
   "metadata": {},
   "outputs": [
    {
     "data": {
      "text/html": [
       "<div>\n",
       "<style scoped>\n",
       "    .dataframe tbody tr th:only-of-type {\n",
       "        vertical-align: middle;\n",
       "    }\n",
       "\n",
       "    .dataframe tbody tr th {\n",
       "        vertical-align: top;\n",
       "    }\n",
       "\n",
       "    .dataframe thead th {\n",
       "        text-align: right;\n",
       "    }\n",
       "</style>\n",
       "<table border=\"1\" class=\"dataframe\">\n",
       "  <thead>\n",
       "    <tr style=\"text-align: right;\">\n",
       "      <th></th>\n",
       "      <th>y</th>\n",
       "      <th>x.1</th>\n",
       "      <th>x.2</th>\n",
       "      <th>x.3</th>\n",
       "      <th>x.4</th>\n",
       "      <th>x.5</th>\n",
       "      <th>x.6</th>\n",
       "      <th>x.7</th>\n",
       "      <th>x.8</th>\n",
       "      <th>x.9</th>\n",
       "      <th>x.10</th>\n",
       "    </tr>\n",
       "    <tr>\n",
       "      <th>row.names</th>\n",
       "      <th></th>\n",
       "      <th></th>\n",
       "      <th></th>\n",
       "      <th></th>\n",
       "      <th></th>\n",
       "      <th></th>\n",
       "      <th></th>\n",
       "      <th></th>\n",
       "      <th></th>\n",
       "      <th></th>\n",
       "      <th></th>\n",
       "    </tr>\n",
       "  </thead>\n",
       "  <tbody>\n",
       "    <tr>\n",
       "      <th>1</th>\n",
       "      <td>1</td>\n",
       "      <td>-3.639</td>\n",
       "      <td>0.418</td>\n",
       "      <td>-0.670</td>\n",
       "      <td>1.779</td>\n",
       "      <td>-0.168</td>\n",
       "      <td>1.627</td>\n",
       "      <td>-0.388</td>\n",
       "      <td>0.529</td>\n",
       "      <td>-0.874</td>\n",
       "      <td>-0.814</td>\n",
       "    </tr>\n",
       "    <tr>\n",
       "      <th>2</th>\n",
       "      <td>2</td>\n",
       "      <td>-3.327</td>\n",
       "      <td>0.496</td>\n",
       "      <td>-0.694</td>\n",
       "      <td>1.365</td>\n",
       "      <td>-0.265</td>\n",
       "      <td>1.933</td>\n",
       "      <td>-0.363</td>\n",
       "      <td>0.510</td>\n",
       "      <td>-0.621</td>\n",
       "      <td>-0.488</td>\n",
       "    </tr>\n",
       "    <tr>\n",
       "      <th>3</th>\n",
       "      <td>3</td>\n",
       "      <td>-2.120</td>\n",
       "      <td>0.894</td>\n",
       "      <td>-1.576</td>\n",
       "      <td>0.147</td>\n",
       "      <td>-0.707</td>\n",
       "      <td>1.559</td>\n",
       "      <td>-0.579</td>\n",
       "      <td>0.676</td>\n",
       "      <td>-0.809</td>\n",
       "      <td>-0.049</td>\n",
       "    </tr>\n",
       "    <tr>\n",
       "      <th>4</th>\n",
       "      <td>4</td>\n",
       "      <td>-2.287</td>\n",
       "      <td>1.809</td>\n",
       "      <td>-1.498</td>\n",
       "      <td>1.012</td>\n",
       "      <td>-1.053</td>\n",
       "      <td>1.060</td>\n",
       "      <td>-0.567</td>\n",
       "      <td>0.235</td>\n",
       "      <td>-0.091</td>\n",
       "      <td>-0.795</td>\n",
       "    </tr>\n",
       "    <tr>\n",
       "      <th>5</th>\n",
       "      <td>5</td>\n",
       "      <td>-2.598</td>\n",
       "      <td>1.938</td>\n",
       "      <td>-0.846</td>\n",
       "      <td>1.062</td>\n",
       "      <td>-1.633</td>\n",
       "      <td>0.764</td>\n",
       "      <td>0.394</td>\n",
       "      <td>-0.150</td>\n",
       "      <td>0.277</td>\n",
       "      <td>-0.396</td>\n",
       "    </tr>\n",
       "  </tbody>\n",
       "</table>\n",
       "</div>"
      ],
      "text/plain": [
       "           y    x.1    x.2    x.3    x.4    x.5    x.6    x.7    x.8    x.9  \\\n",
       "row.names                                                                     \n",
       "1          1 -3.639  0.418 -0.670  1.779 -0.168  1.627 -0.388  0.529 -0.874   \n",
       "2          2 -3.327  0.496 -0.694  1.365 -0.265  1.933 -0.363  0.510 -0.621   \n",
       "3          3 -2.120  0.894 -1.576  0.147 -0.707  1.559 -0.579  0.676 -0.809   \n",
       "4          4 -2.287  1.809 -1.498  1.012 -1.053  1.060 -0.567  0.235 -0.091   \n",
       "5          5 -2.598  1.938 -0.846  1.062 -1.633  0.764  0.394 -0.150  0.277   \n",
       "\n",
       "            x.10  \n",
       "row.names         \n",
       "1         -0.814  \n",
       "2         -0.488  \n",
       "3         -0.049  \n",
       "4         -0.795  \n",
       "5         -0.396  "
      ]
     },
     "execution_count": 136,
     "metadata": {},
     "output_type": "execute_result"
    }
   ],
   "source": [
    "train = pd.read_csv('vowel.train.csv', sep=',', index_col=0)\n",
    "train.head()"
   ]
  },
  {
   "cell_type": "code",
   "execution_count": 137,
   "metadata": {
    "scrolled": true
   },
   "outputs": [
    {
     "data": {
      "text/html": [
       "<div>\n",
       "<style scoped>\n",
       "    .dataframe tbody tr th:only-of-type {\n",
       "        vertical-align: middle;\n",
       "    }\n",
       "\n",
       "    .dataframe tbody tr th {\n",
       "        vertical-align: top;\n",
       "    }\n",
       "\n",
       "    .dataframe thead th {\n",
       "        text-align: right;\n",
       "    }\n",
       "</style>\n",
       "<table border=\"1\" class=\"dataframe\">\n",
       "  <thead>\n",
       "    <tr style=\"text-align: right;\">\n",
       "      <th></th>\n",
       "      <th>y</th>\n",
       "      <th>x.1</th>\n",
       "      <th>x.2</th>\n",
       "      <th>x.3</th>\n",
       "      <th>x.4</th>\n",
       "      <th>x.5</th>\n",
       "      <th>x.6</th>\n",
       "      <th>x.7</th>\n",
       "      <th>x.8</th>\n",
       "      <th>x.9</th>\n",
       "      <th>x.10</th>\n",
       "    </tr>\n",
       "    <tr>\n",
       "      <th>row.names</th>\n",
       "      <th></th>\n",
       "      <th></th>\n",
       "      <th></th>\n",
       "      <th></th>\n",
       "      <th></th>\n",
       "      <th></th>\n",
       "      <th></th>\n",
       "      <th></th>\n",
       "      <th></th>\n",
       "      <th></th>\n",
       "      <th></th>\n",
       "    </tr>\n",
       "  </thead>\n",
       "  <tbody>\n",
       "    <tr>\n",
       "      <th>1</th>\n",
       "      <td>1</td>\n",
       "      <td>-1.149</td>\n",
       "      <td>-0.904</td>\n",
       "      <td>-1.988</td>\n",
       "      <td>0.739</td>\n",
       "      <td>-0.060</td>\n",
       "      <td>1.206</td>\n",
       "      <td>0.864</td>\n",
       "      <td>1.196</td>\n",
       "      <td>-0.300</td>\n",
       "      <td>-0.467</td>\n",
       "    </tr>\n",
       "    <tr>\n",
       "      <th>2</th>\n",
       "      <td>2</td>\n",
       "      <td>-2.613</td>\n",
       "      <td>-0.092</td>\n",
       "      <td>-0.540</td>\n",
       "      <td>0.484</td>\n",
       "      <td>0.389</td>\n",
       "      <td>1.741</td>\n",
       "      <td>0.198</td>\n",
       "      <td>0.257</td>\n",
       "      <td>-0.375</td>\n",
       "      <td>-0.604</td>\n",
       "    </tr>\n",
       "    <tr>\n",
       "      <th>3</th>\n",
       "      <td>3</td>\n",
       "      <td>-2.505</td>\n",
       "      <td>0.632</td>\n",
       "      <td>-0.593</td>\n",
       "      <td>0.304</td>\n",
       "      <td>0.496</td>\n",
       "      <td>0.824</td>\n",
       "      <td>-0.162</td>\n",
       "      <td>0.181</td>\n",
       "      <td>-0.363</td>\n",
       "      <td>-0.764</td>\n",
       "    </tr>\n",
       "    <tr>\n",
       "      <th>4</th>\n",
       "      <td>4</td>\n",
       "      <td>-1.768</td>\n",
       "      <td>1.769</td>\n",
       "      <td>-1.142</td>\n",
       "      <td>-0.739</td>\n",
       "      <td>-0.086</td>\n",
       "      <td>0.120</td>\n",
       "      <td>-0.230</td>\n",
       "      <td>0.217</td>\n",
       "      <td>-0.009</td>\n",
       "      <td>-0.279</td>\n",
       "    </tr>\n",
       "    <tr>\n",
       "      <th>5</th>\n",
       "      <td>5</td>\n",
       "      <td>-2.671</td>\n",
       "      <td>3.155</td>\n",
       "      <td>-0.514</td>\n",
       "      <td>0.133</td>\n",
       "      <td>-0.964</td>\n",
       "      <td>0.234</td>\n",
       "      <td>-0.071</td>\n",
       "      <td>1.192</td>\n",
       "      <td>0.254</td>\n",
       "      <td>-0.471</td>\n",
       "    </tr>\n",
       "  </tbody>\n",
       "</table>\n",
       "</div>"
      ],
      "text/plain": [
       "           y    x.1    x.2    x.3    x.4    x.5    x.6    x.7    x.8    x.9  \\\n",
       "row.names                                                                     \n",
       "1          1 -1.149 -0.904 -1.988  0.739 -0.060  1.206  0.864  1.196 -0.300   \n",
       "2          2 -2.613 -0.092 -0.540  0.484  0.389  1.741  0.198  0.257 -0.375   \n",
       "3          3 -2.505  0.632 -0.593  0.304  0.496  0.824 -0.162  0.181 -0.363   \n",
       "4          4 -1.768  1.769 -1.142 -0.739 -0.086  0.120 -0.230  0.217 -0.009   \n",
       "5          5 -2.671  3.155 -0.514  0.133 -0.964  0.234 -0.071  1.192  0.254   \n",
       "\n",
       "            x.10  \n",
       "row.names         \n",
       "1         -0.467  \n",
       "2         -0.604  \n",
       "3         -0.764  \n",
       "4         -0.279  \n",
       "5         -0.471  "
      ]
     },
     "execution_count": 137,
     "metadata": {},
     "output_type": "execute_result"
    }
   ],
   "source": [
    "test = pd.read_csv('vowel.test.csv', sep=',', index_col=0)\n",
    "test.head()"
   ]
  },
  {
   "cell_type": "code",
   "execution_count": 138,
   "metadata": {},
   "outputs": [
    {
     "name": "stdout",
     "output_type": "stream",
     "text": [
      "La taille du train est  (528, 11)\n",
      "La taille du test est  (462, 11)\n"
     ]
    }
   ],
   "source": [
    "print(\"La taille du train est \",train.shape)\n",
    "print(\"La taille du test est \",test.shape)"
   ]
  },
  {
   "cell_type": "code",
   "execution_count": 139,
   "metadata": {},
   "outputs": [
    {
     "name": "stdout",
     "output_type": "stream",
     "text": [
      "Les valeurs possibles pour le label sont: [ 1  2  3  4  5  6  7  8  9 10 11]\n"
     ]
    }
   ],
   "source": [
    "print(\"Les valeurs possibles pour le label sont:\",np.unique(train['y']))"
   ]
  },
  {
   "cell_type": "markdown",
   "metadata": {},
   "source": [
    "C'est un problème de classification multi-classes à 11 classes.\n",
    "On vérifie si le nombre d'observations par classes (class balancing) est bien équilibré."
   ]
  },
  {
   "cell_type": "markdown",
   "metadata": {
    "collapsed": true
   },
   "source": [
    "#### Répartition des y"
   ]
  },
  {
   "cell_type": "code",
   "execution_count": 140,
   "metadata": {},
   "outputs": [
    {
     "data": {
      "text/plain": [
       "Text(0.5, 1.0, 'Repartion des observations dans les 11 classes du train')"
      ]
     },
     "execution_count": 140,
     "metadata": {},
     "output_type": "execute_result"
    },
    {
     "data": {
      "image/png": "[encoded data removed]",
      "text/plain": [
       "<Figure size 432x288 with 1 Axes>"
      ]
     },
     "metadata": {
      "needs_background": "light"
     },
     "output_type": "display_data"
    }
   ],
   "source": [
    "sns.barplot(np.unique(train['y']), train.groupby('y').count().values[:,0])\n",
    "plt.title(\"Repartion des observations dans les 11 classes du train\")"
   ]
  },
  {
   "cell_type": "code",
   "execution_count": 141,
   "metadata": {},
   "outputs": [
    {
     "data": {
      "text/plain": [
       "Text(0.5, 1.0, 'Repartion des observations dans les 11 classes du test')"
      ]
     },
     "execution_count": 141,
     "metadata": {},
     "output_type": "execute_result"
    },
    {
     "data": {
      "image/png": "[encoded data removed]",
      "text/plain": [
       "<Figure size 432x288 with 1 Axes>"
      ]
     },
     "metadata": {
      "needs_background": "light"
     },
     "output_type": "display_data"
    }
   ],
   "source": [
    "sns.barplot(np.unique(test['y']), test.groupby('y').count().values[:,0])\n",
    "plt.title(\"Repartion des observations dans les 11 classes du test\")"
   ]
  },
  {
   "cell_type": "markdown",
   "metadata": {},
   "source": [
    "Toutes les classes sont équitablement représentées dans le train et dans le test."
   ]
  },
  {
   "cell_type": "markdown",
   "metadata": {},
   "source": [
    "#### Définition des matrices de features et des matrices de labels pour le train et le test"
   ]
  },
  {
   "cell_type": "code",
   "execution_count": 142,
   "metadata": {
    "scrolled": true
   },
   "outputs": [],
   "source": [
    "Y_train = train.values[:,0]\n",
    "X_train = train.values[:,1:]\n",
    "\n",
    "Y_test = test.values[:,0]\n",
    "X_test = test.values[:,1:]"
   ]
  },
  {
   "cell_type": "code",
   "execution_count": 143,
   "metadata": {},
   "outputs": [
    {
     "name": "stdout",
     "output_type": "stream",
     "text": [
      "Taille de X_train:  (528, 10)\n",
      "Taille de Y_train:  (528,)\n",
      "Taille de X_test:  (462, 10)\n",
      "Taille de Y_test:  (462,)\n"
     ]
    }
   ],
   "source": [
    "print(\"Taille de X_train: \", X_train.shape)\n",
    "print(\"Taille de Y_train: \", Y_train.shape)\n",
    "print(\"Taille de X_test: \", X_test.shape)\n",
    "print(\"Taille de Y_test: \", Y_test.shape)"
   ]
  },
  {
   "cell_type": "markdown",
   "metadata": {},
   "source": [
    "# 2.Naive Bayes"
   ]
  },
  {
   "cell_type": "code",
   "execution_count": 144,
   "metadata": {},
   "outputs": [],
   "source": [
    "NB = GaussianNB()\n",
    "NB_fit = NB.fit(X=X_train,y=Y_train)"
   ]
  },
  {
   "cell_type": "code",
   "execution_count": 145,
   "metadata": {},
   "outputs": [
    {
     "name": "stdout",
     "output_type": "stream",
     "text": [
      "Le score sur le train est 0.720\n",
      "Le score sur le test est 0.461\n"
     ]
    }
   ],
   "source": [
    "score_test_NB = accuracy_score(NB_fit.predict(X_test),Y_test)\n",
    "print(\"Le score sur le train est\", (\"%.3f\" % accuracy_score(NB_fit.predict(X_train),Y_train)))\n",
    "print(\"Le score sur le test est\", (\"%.3f\" % accuracy_score(NB_fit.predict(X_test),Y_test)))"
   ]
  },
  {
   "cell_type": "markdown",
   "metadata": {},
   "source": [
    "# 3. LDA"
   ]
  },
  {
   "cell_type": "code",
   "execution_count": 146,
   "metadata": {},
   "outputs": [],
   "source": [
    "LDA = LinearDiscriminantAnalysis()\n",
    "LDA_fit = LDA.fit(X=X_train,y=Y_train)"
   ]
  },
  {
   "cell_type": "code",
   "execution_count": 147,
   "metadata": {},
   "outputs": [
    {
     "name": "stdout",
     "output_type": "stream",
     "text": [
      "Le score sur le train est 0.684\n",
      "Le score sur le test est 0.444\n"
     ]
    }
   ],
   "source": [
    "score_test_LDA = accuracy_score(LDA_fit.predict(X_test),Y_test)\n",
    "print(\"Le score sur le train est\", (\"%.3f\" % accuracy_score(LDA_fit.predict(X_train),Y_train)))\n",
    "print(\"Le score sur le test est\", (\"%.3f\" % accuracy_score(LDA_fit.predict(X_test),Y_test)))"
   ]
  },
  {
   "cell_type": "markdown",
   "metadata": {},
   "source": [
    "# 4.QDA"
   ]
  },
  {
   "cell_type": "code",
   "execution_count": 148,
   "metadata": {},
   "outputs": [],
   "source": [
    "QDA = QuadraticDiscriminantAnalysis()\n",
    "QDA_fit = QDA.fit(X=X_train,y=Y_train)"
   ]
  },
  {
   "cell_type": "code",
   "execution_count": 149,
   "metadata": {},
   "outputs": [
    {
     "name": "stdout",
     "output_type": "stream",
     "text": [
      "Le score sur le train est 0.989\n",
      "Le score sur le test est 0.472\n"
     ]
    }
   ],
   "source": [
    "score_test_QDA = accuracy_score(QDA_fit.predict(X_test),Y_test)\n",
    "print(\"Le score sur le train est\", (\"%.3f\" % accuracy_score(QDA_fit.predict(X_train),Y_train)))\n",
    "print(\"Le score sur le test est\", (\"%.3f\" % accuracy_score(QDA_fit.predict(X_test),Y_test)))"
   ]
  },
  {
   "cell_type": "markdown",
   "metadata": {},
   "source": [
    "# 5.k-NN"
   ]
  },
  {
   "cell_type": "markdown",
   "metadata": {},
   "source": [
    "#### Différentes valeurs de k"
   ]
  },
  {
   "cell_type": "code",
   "execution_count": 150,
   "metadata": {},
   "outputs": [
    {
     "name": "stdout",
     "output_type": "stream",
     "text": [
      "Le score sur le train avec 3 voisins est 0.9981060606060606\n",
      "Le score sur le test avec 3 voisins est 0.564935064935065\n"
     ]
    }
   ],
   "source": [
    "KNN_3 = KNeighborsClassifier(n_neighbors = 3)\n",
    "KNN_3_fit = KNN_3.fit(X_train, Y_train)\n",
    "print(\"Le score sur le train avec 3 voisins est\", accuracy_score(KNN_3_fit.predict(X_train),Y_train))\n",
    "print(\"Le score sur le test avec 3 voisins est\", accuracy_score(KNN_3_fit.predict(X_test),Y_test))"
   ]
  },
  {
   "cell_type": "code",
   "execution_count": 151,
   "metadata": {},
   "outputs": [
    {
     "name": "stdout",
     "output_type": "stream",
     "text": [
      "Le score sur le train avec 9 voisins est 0.9450757575757576\n",
      "Le score sur le test avec 9 voisins est 0.5800865800865801\n"
     ]
    }
   ],
   "source": [
    "KNN_9 = KNeighborsClassifier(n_neighbors = 9)\n",
    "KNN_9_fit = KNN_9.fit(X_train, Y_train)\n",
    "print(\"Le score sur le train avec 9 voisins est\", accuracy_score(KNN_9_fit.predict(X_train),Y_train))\n",
    "print(\"Le score sur le test avec 9 voisins est\", accuracy_score(KNN_9_fit.predict(X_test),Y_test))"
   ]
  },
  {
   "cell_type": "code",
   "execution_count": 152,
   "metadata": {},
   "outputs": [
    {
     "name": "stdout",
     "output_type": "stream",
     "text": [
      "Le score sur le train avec 12 voisins est 0.8257575757575758\n",
      "Le score sur le test avec 12 voisins est 0.5584415584415584\n"
     ]
    }
   ],
   "source": [
    "KNN_12 = KNeighborsClassifier(n_neighbors = 12)\n",
    "KNN_12_fit = KNN_12.fit(X_train, Y_train)\n",
    "print(\"Le score sur le train avec 12 voisins est\", accuracy_score(KNN_12_fit.predict(X_train),Y_train))\n",
    "print(\"Le score sur le test avec 12 voisins est\", accuracy_score(KNN_12_fit.predict(X_test),Y_test))"
   ]
  },
  {
   "cell_type": "markdown",
   "metadata": {},
   "source": [
    "#### De façon plus automatique"
   ]
  },
  {
   "cell_type": "code",
   "execution_count": 153,
   "metadata": {},
   "outputs": [
    {
     "name": "stdout",
     "output_type": "stream",
     "text": [
      "Pour k= 1 , score test :  0.563 , score train :  1.000\n",
      "Pour k= 2 , score test :  0.552 , score train :  0.998\n",
      "Pour k= 3 , score test :  0.565 , score train :  0.998\n",
      "Pour k= 4 , score test :  0.587 , score train :  0.992\n",
      "Pour k= 5 , score test :  0.578 , score train :  0.983\n",
      "Pour k= 6 , score test :  0.608 , score train :  0.977\n",
      "Pour k= 7 , score test :  0.602 , score train :  0.968\n",
      "Pour k= 8 , score test :  0.589 , score train :  0.947\n",
      "Pour k= 9 , score test :  0.580 , score train :  0.945\n",
      "Pour k= 10 , score test :  0.587 , score train :  0.924\n",
      "Pour k= 11 , score test :  0.563 , score train :  0.926\n",
      "Pour k= 12 , score test :  0.558 , score train :  0.826\n",
      "Pour k= 13 , score test :  0.550 , score train :  0.801\n",
      "Pour k= 14 , score test :  0.556 , score train :  0.777\n",
      "Pour k= 15 , score test :  0.554 , score train :  0.771\n",
      "Pour k= 16 , score test :  0.535 , score train :  0.746\n",
      "Pour k= 17 , score test :  0.558 , score train :  0.714\n",
      "Pour k= 18 , score test :  0.565 , score train :  0.705\n",
      "Pour k= 19 , score test :  0.550 , score train :  0.693\n",
      "Pour k= 20 , score test :  0.565 , score train :  0.691\n",
      "Pour k= 21 , score test :  0.561 , score train :  0.682\n",
      "Pour k= 22 , score test :  0.548 , score train :  0.670\n",
      "Pour k= 23 , score test :  0.537 , score train :  0.678\n",
      "Pour k= 24 , score test :  0.522 , score train :  0.650\n",
      "Pour k= 25 , score test :  0.522 , score train :  0.638\n",
      "Pour k= 26 , score test :  0.528 , score train :  0.627\n",
      "Pour k= 27 , score test :  0.537 , score train :  0.616\n",
      "Pour k= 28 , score test :  0.548 , score train :  0.619\n",
      "Pour k= 29 , score test :  0.545 , score train :  0.619\n",
      "Pour k= 30 , score test :  0.541 , score train :  0.617\n",
      "Pour k= 31 , score test :  0.537 , score train :  0.598\n",
      "Pour k= 32 , score test :  0.535 , score train :  0.612\n",
      "Pour k= 33 , score test :  0.519 , score train :  0.593\n",
      "Pour k= 34 , score test :  0.513 , score train :  0.587\n",
      "Pour k= 35 , score test :  0.517 , score train :  0.572\n",
      "Pour k= 36 , score test :  0.519 , score train :  0.581\n",
      "Pour k= 37 , score test :  0.496 , score train :  0.572\n",
      "Pour k= 38 , score test :  0.504 , score train :  0.562\n",
      "Pour k= 39 , score test :  0.496 , score train :  0.564\n",
      "Pour k= 40 , score test :  0.502 , score train :  0.561\n",
      "Pour k= 41 , score test :  0.489 , score train :  0.544\n",
      "Pour k= 42 , score test :  0.498 , score train :  0.530\n",
      "Pour k= 43 , score test :  0.491 , score train :  0.528\n",
      "Pour k= 44 , score test :  0.483 , score train :  0.538\n",
      "Pour k= 45 , score test :  0.468 , score train :  0.532\n",
      "Pour k= 46 , score test :  0.459 , score train :  0.523\n",
      "Pour k= 47 , score test :  0.452 , score train :  0.506\n",
      "Pour k= 48 , score test :  0.455 , score train :  0.523\n",
      "Pour k= 49 , score test :  0.461 , score train :  0.519\n"
     ]
    }
   ],
   "source": [
    "accur_score_kNN_train = [] \n",
    "accur_score_kNN_test = []\n",
    "\n",
    "for i in range(1,50):\n",
    "    kNN = KNeighborsClassifier(n_neighbors = i)\n",
    "    kNN_fit = kNN.fit(X_train, Y_train)\n",
    "    accur_score_kNN_train.append( accuracy_score(kNN_fit.predict(X_train),Y_train))\n",
    "    accur_score_kNN_test.append( accuracy_score(kNN_fit.predict(X_test),Y_test))\n",
    "    \n",
    "    print(\"Pour k=\",i,\", score test : \", (\"%.3f\" % accuracy_score(kNN_fit.predict(X_test),Y_test)), \\\n",
    "          \", score train : \", (\"%.3f\" % accuracy_score(kNN_fit.predict(X_train),Y_train)) )"
   ]
  },
  {
   "cell_type": "markdown",
   "metadata": {},
   "source": [
    "L'accuracy-score sur le test augmente jusqu'a k = 6 puis redescend.\n",
    "Visualisons l'accuracy-score:"
   ]
  },
  {
   "cell_type": "markdown",
   "metadata": {},
   "source": [
    "#### Plot de l'accuracy-score"
   ]
  },
  {
   "cell_type": "code",
   "execution_count": 154,
   "metadata": {},
   "outputs": [
    {
     "data": {
      "text/plain": [
       "Text(0, 0.5, 'Accuracy score')"
      ]
     },
     "execution_count": 154,
     "metadata": {},
     "output_type": "execute_result"
    },
    {
     "data": {
      "image/png": "[encoded data removed]",
      "text/plain": [
       "<Figure size 432x288 with 1 Axes>"
      ]
     },
     "metadata": {
      "needs_background": "light"
     },
     "output_type": "display_data"
    }
   ],
   "source": [
    "plt.plot(np.arange(1,50), accur_score_kNN_train, label = \"Accuracy sur le train\")\n",
    "plt.plot(np.arange(1,50), accur_score_kNN_test, label = \"Accuracy sur le test\")\n",
    "\n",
    "plt.axvline(np.arange(1,50)[np.argmax(accur_score_kNN_test)], label = \"meilleurs k sur le test\", color = \"red\", alpha = 1)\n",
    "\n",
    "plt.legend()\n",
    "plt.title(\"Vowel dataset\")\n",
    "plt.xlabel(\"k\")\n",
    "plt.ylabel(\"Accuracy score\")"
   ]
  },
  {
   "cell_type": "code",
   "execution_count": 155,
   "metadata": {},
   "outputs": [
    {
     "data": {
      "text/plain": [
       "Text(0, 0.5, 'Accuracy score')"
      ]
     },
     "execution_count": 155,
     "metadata": {},
     "output_type": "execute_result"
    },
    {
     "data": {
      "image/png": "[encoded data removed]",
      "text/plain": [
       "<Figure size 432x288 with 1 Axes>"
      ]
     },
     "metadata": {
      "needs_background": "light"
     },
     "output_type": "display_data"
    }
   ],
   "source": [
    "plt.plot(np.arange(1,50),accur_score_kNN_test, 'o-')\n",
    "plt.axvline(np.arange(1,50)[np.argmax(accur_score_kNN_test)], label = \"meilleurs k sur le test\", color = \"red\", alpha = 1)\n",
    "\n",
    "plt.legend()\n",
    "plt.title(\"Vowel dataset\")\n",
    "plt.xlabel(\"k\")\n",
    "plt.ylabel(\"Accuracy score\")\n",
    "\n",
    "#np.argmax(accur_score_kNN_test)"
   ]
  },
  {
   "cell_type": "markdown",
   "metadata": {},
   "source": [
    "#### Cross Validation à 10 fold"
   ]
  },
  {
   "cell_type": "code",
   "execution_count": 156,
   "metadata": {},
   "outputs": [
    {
     "name": "stdout",
     "output_type": "stream",
     "text": [
      "Les scores obtenus apres cross validation à 10 fold sont : \n",
      "\n",
      " [0.49090909 0.8        0.72727273 0.74545455 0.69090909 0.8\n",
      " 0.65454545 0.67272727 0.84090909 0.56818182] \n",
      "\n",
      "Moyenne des score :  0.6990909090909091\n"
     ]
    }
   ],
   "source": [
    "knn_cv = KNeighborsClassifier(n_neighbors = 6)\n",
    "\n",
    "cv_scores = cross_val_score(knn_cv, X_train, Y_train, cv = 10) # On coupe le train en 10 parties puis on calcule l'accuray \n",
    "                                                                #score sur chaque \"morceaux\"\n",
    "\n",
    "print(\"Les scores obtenus apres cross validation à 10 fold sont : \\n\\n\",cv_scores,\"\\n\") #affichage des scores\n",
    "\n",
    "print(\"Moyenne des score : \",format(np.mean(cv_scores))) # moyenne des scores"
   ]
  },
  {
   "cell_type": "markdown",
   "metadata": {},
   "source": [
    "#### Choix du meilleurs k (hypertuning model parameters)"
   ]
  },
  {
   "cell_type": "code",
   "execution_count": 157,
   "metadata": {},
   "outputs": [
    {
     "name": "stderr",
     "output_type": "stream",
     "text": [
      "C:\\Users\\odeli\\Anaconda3\\lib\\site-packages\\sklearn\\model_selection\\_search.py:841: DeprecationWarning: The default of the `iid` parameter will change from True to False in version 0.22 and will be removed in 0.24. This will change numeric results when test-set sizes are unequal.\n",
      "  DeprecationWarning)\n"
     ]
    },
    {
     "data": {
      "text/plain": [
       "GridSearchCV(cv=5, error_score='raise-deprecating',\n",
       "       estimator=KNeighborsClassifier(algorithm='auto', leaf_size=30, metric='minkowski',\n",
       "           metric_params=None, n_jobs=None, n_neighbors=5, p=2,\n",
       "           weights='uniform'),\n",
       "       fit_params=None, iid='warn', n_jobs=None,\n",
       "       param_grid={'n_neighbors': [5, 6, 7, 8, 9, 10]},\n",
       "       pre_dispatch='2*n_jobs', refit=True, return_train_score='warn',\n",
       "       scoring=None, verbose=0)"
      ]
     },
     "execution_count": 157,
     "metadata": {},
     "output_type": "execute_result"
    }
   ],
   "source": [
    "\n",
    "\n",
    "# Dictionnaire de tous les k qu'on veut tester \"n_neighbors\": \n",
    "#grille = {'k' : [1,20]} \n",
    "params = {'n_neighbors':[5,6,7,8,9,10]}\n",
    "#on cherche le meilleur k en cross validant\n",
    "knn_cv_best_k = GridSearchCV(estimator = KNeighborsClassifier(), param_grid = params, cv = 5) \n",
    "\n",
    "#Entrainement du model\n",
    "knn_cv_best_k.fit(X_train,Y_train)\n"
   ]
  },
  {
   "cell_type": "code",
   "execution_count": 158,
   "metadata": {},
   "outputs": [
    {
     "name": "stdout",
     "output_type": "stream",
     "text": [
      "Meilleur parametre: {'n_neighbors': 5}\n",
      "Meilleur score: 0.6193181818181818\n"
     ]
    }
   ],
   "source": [
    "\n",
    "print(\"Meilleur parametre:\",knn_cv_best_k.best_params_ )\n",
    "print(\"Meilleur score:\",knn_cv_best_k.best_score_)\n",
    "\n"
   ]
  },
  {
   "cell_type": "markdown",
   "metadata": {},
   "source": [
    "# 6.Decisions Tree"
   ]
  },
  {
   "cell_type": "markdown",
   "metadata": {},
   "source": [
    "#### Arbre Parfait"
   ]
  },
  {
   "cell_type": "code",
   "execution_count": 159,
   "metadata": {},
   "outputs": [
    {
     "name": "stdout",
     "output_type": "stream",
     "text": [
      "Le score sur le train est 1.000\n",
      "Le score sur le test est 0.455\n"
     ]
    }
   ],
   "source": [
    "arbre_parfait = DecisionTreeClassifier()\n",
    "arbre_parfait_fit = arbre_parfait.fit(X_train, Y_train)\n",
    "print(\"Le score sur le train est\", (\"%.3f\" % accuracy_score(arbre_parfait_fit.predict(X_train),Y_train)))\n",
    "print(\"Le score sur le test est\", (\"%.3f\" % accuracy_score(arbre_parfait_fit.predict(X_test),Y_test)))"
   ]
  },
  {
   "cell_type": "markdown",
   "metadata": {},
   "source": [
    "#### Plusieurs valeurs pour la profondeur max"
   ]
  },
  {
   "cell_type": "code",
   "execution_count": 160,
   "metadata": {},
   "outputs": [
    {
     "name": "stdout",
     "output_type": "stream",
     "text": [
      " Pour max_depth =  1 , erreur train :  3.6236282671076814 , erreur test :  3.68041499636312\n",
      " Pour max_depth =  2 , erreur train :  2.4347546699883957 , erreur test :  2.368626101855168\n",
      " Pour max_depth =  3 , erreur train :  3.255240530143803 , erreur test :  4.240089029531688\n",
      " Pour max_depth =  4 , erreur train :  2.6020824993326657 , erreur test :  3.5050983275386565\n",
      " Pour max_depth =  5 , erreur train :  2.4756388829528184 , erreur test :  3.765875486765087\n",
      " Pour max_depth =  6 , erreur train :  2.1132697629287867 , erreur test :  3.26698028355853\n",
      " Pour max_depth =  7 , erreur train :  1.9928850717216258 , erreur test :  3.541650751173814\n",
      " Pour max_depth =  8 , erreur train :  1.999052806008916 , erreur test :  3.311726508565052\n",
      " Pour max_depth =  9 , erreur train :  1.999052806008916 , erreur test :  3.4672243973595105\n",
      " Pour max_depth =  10 , erreur train :  1.999052806008916 , erreur test :  3.310745982560269\n",
      " Pour max_depth =  11 , erreur train :  1.999052806008916 , erreur test :  3.5410395421346315\n",
      " Pour max_depth =  12 , erreur train :  1.999052806008916 , erreur test :  3.469408672496876\n",
      " Pour max_depth =  13 , erreur train :  1.999052806008916 , erreur test :  3.5911145757416176\n",
      " Pour max_depth =  14 , erreur train :  1.999052806008916 , erreur test :  3.3149928339556767\n",
      " Pour max_depth =  15 , erreur train :  1.999052806008916 , erreur test :  3.4662878580913494\n",
      " Pour max_depth =  16 , erreur train :  1.999052806008916 , erreur test :  3.469408672496876\n",
      " Pour max_depth =  17 , erreur train :  1.999052806008916 , erreur test :  3.8260329505282806\n",
      " Pour max_depth =  18 , erreur train :  1.999052806008916 , erreur test :  3.5404282275781322\n",
      " Pour max_depth =  19 , erreur train :  1.999052806008916 , erreur test :  3.4656633579767253\n"
     ]
    },
    {
     "data": {
      "text/plain": [
       "<matplotlib.legend.Legend at 0x2875b484748>"
      ]
     },
     "execution_count": 160,
     "metadata": {},
     "output_type": "execute_result"
    },
    {
     "data": {
      "image/png": "[encoded data removed]",
      "text/plain": [
       "<Figure size 432x288 with 1 Axes>"
      ]
     },
     "metadata": {
      "needs_background": "light"
     },
     "output_type": "display_data"
    }
   ],
   "source": [
    "courbe_err_test = []\n",
    "courbe_err_train = []\n",
    "for max_depth in range(1,20) :\n",
    "    arbre_cv = DecisionTreeClassifier(min_samples_leaf = 10, max_depth = max_depth)\n",
    "    arbre_cv_fit = arbre_cv.fit(X_train, Y_train)\n",
    "    erreur_train = mean_squared_error( arbre_cv_fit.predict(X_train), Y_train)**0.5\n",
    "    erreur_test = mean_squared_error( arbre_cv_fit.predict(X_test), Y_test)**0.5\n",
    "    print(\" Pour max_depth = \",max_depth,\", \" \"erreur train : \",erreur_train, \", \" \"erreur test : \",erreur_test)\n",
    "    courbe_err_train.append((max_depth, erreur_train))\n",
    "    courbe_err_test.append((max_depth, erreur_test))\n",
    "    \n",
    "err_min_test = min(c[1] for c in courbe_err_test)\n",
    "    \n",
    "plt.plot ( [c[0] for c in courbe_err_train], [c[1] for c in courbe_err_train], label = \"train\")\n",
    "plt.plot ( [c[0] for c in courbe_err_test], [c[1] for c in courbe_err_test], label = \"test\")\n",
    "\n",
    "plt.legend()"
   ]
  },
  {
   "cell_type": "code",
   "execution_count": 161,
   "metadata": {},
   "outputs": [
    {
     "name": "stdout",
     "output_type": "stream",
     "text": [
      "L'erreur minimale sur le test est : 2.3686 elle est atteinte pour max_depth = 2\n"
     ]
    }
   ],
   "source": [
    "print(\"L'erreur minimale sur le test est :\",( \"%.4f\" % err_min_test ),\"elle est atteinte pour max_depth = 2\")"
   ]
  },
  {
   "cell_type": "code",
   "execution_count": 162,
   "metadata": {},
   "outputs": [
    {
     "data": {
      "text/plain": [
       "Text(0, 0.5, 'Erreur')"
      ]
     },
     "execution_count": 162,
     "metadata": {},
     "output_type": "execute_result"
    },
    {
     "data": {
      "image/png": "[encoded data removed]",
      "text/plain": [
       "<Figure size 432x288 with 1 Axes>"
      ]
     },
     "metadata": {
      "needs_background": "light"
     },
     "output_type": "display_data"
    }
   ],
   "source": [
    "plt.plot([c[0] for c in courbe_err_test], [c[1] for c in courbe_err_test], 'o-')\n",
    "plt.axvline(2, label=\"meilleurs max_depth sur le test\", color=\"red\", alpha = 1)\n",
    "\n",
    "plt.legend()\n",
    "plt.title(\"Vowel dataset\")\n",
    "plt.xlabel(\"max_depth\")\n",
    "plt.ylabel(\"Erreur\")"
   ]
  },
  {
   "cell_type": "markdown",
   "metadata": {},
   "source": [
    "#### Cross Validation à 10 fold"
   ]
  },
  {
   "cell_type": "code",
   "execution_count": 163,
   "metadata": {},
   "outputs": [
    {
     "name": "stdout",
     "output_type": "stream",
     "text": [
      "Les scores obtenus apres cross validation à 10 fold sont : \n",
      "\n",
      " [0.30909091 0.54545455 0.6        0.50909091 0.65454545 0.43636364\n",
      " 0.61818182 0.50909091 0.52272727 0.25      ] \n",
      "\n",
      "Moyenne des score :  0.4954545454545454\n"
     ]
    }
   ],
   "source": [
    "arbre_cv = DecisionTreeClassifier(min_samples_leaf = 10, max_depth = max_depth)\n",
    "\n",
    "cv_scores_arbre = cross_val_score(arbre_cv, X_train, Y_train, cv = 10) # On coupe le train en 10 parties puis on calcule l'accuray \n",
    "                                                                #score sur chaque \"morceaux\"\n",
    "\n",
    "print(\"Les scores obtenus apres cross validation à 10 fold sont : \\n\\n\",cv_scores_arbre,\"\\n\") #affichage des scores\n",
    "\n",
    "print(\"Moyenne des score : \",format(np.mean(cv_scores_arbre))) # moyenne des scores"
   ]
  },
  {
   "cell_type": "markdown",
   "metadata": {},
   "source": [
    "#### Hypertuning model parameter (max_depth)"
   ]
  },
  {
   "cell_type": "code",
   "execution_count": 164,
   "metadata": {},
   "outputs": [
    {
     "name": "stderr",
     "output_type": "stream",
     "text": [
      "C:\\Users\\odeli\\Anaconda3\\lib\\site-packages\\sklearn\\model_selection\\_search.py:841: DeprecationWarning: The default of the `iid` parameter will change from True to False in version 0.22 and will be removed in 0.24. This will change numeric results when test-set sizes are unequal.\n",
      "  DeprecationWarning)\n"
     ]
    },
    {
     "data": {
      "text/plain": [
       "GridSearchCV(cv=5, error_score='raise-deprecating',\n",
       "       estimator=DecisionTreeClassifier(class_weight=None, criterion='gini', max_depth=None,\n",
       "            max_features=None, max_leaf_nodes=None,\n",
       "            min_impurity_decrease=0.0, min_impurity_split=None,\n",
       "            min_samples_leaf=1, min_samples_split=2,\n",
       "            min_weight_fraction_leaf=0.0, presort=False, random_state=None,\n",
       "            splitter='best'),\n",
       "       fit_params=None, iid='warn', n_jobs=None,\n",
       "       param_grid={'max_depth': [1, 2, 3, 4, 5, 6, 7, 8, 9, 10, 11]},\n",
       "       pre_dispatch='2*n_jobs', refit=True, return_train_score='warn',\n",
       "       scoring=None, verbose=0)"
      ]
     },
     "execution_count": 164,
     "metadata": {},
     "output_type": "execute_result"
    }
   ],
   "source": [
    "\n",
    "params_bis = {'max_depth':[1,2,3,4,5,6,7,8,9,10,11], }\n",
    "#on cherche le meilleur k en cross validant\n",
    "arbre_cv_best_depth = GridSearchCV(estimator = DecisionTreeClassifier(), param_grid = params_bis, cv = 5) \n",
    "\n",
    "#Entrainement du model\n",
    "arbre_cv_best_depth.fit(X_train,Y_train)\n"
   ]
  },
  {
   "cell_type": "code",
   "execution_count": 165,
   "metadata": {},
   "outputs": [
    {
     "name": "stdout",
     "output_type": "stream",
     "text": [
      "Meilleur parametre: {'max_depth': 6}\n",
      "Meilleur score: 0.4981060606060606\n"
     ]
    }
   ],
   "source": [
    "print(\"Meilleur parametre:\",arbre_cv_best_depth.best_params_ )\n",
    "print(\"Meilleur score:\",arbre_cv_best_depth.best_score_)"
   ]
  },
  {
   "cell_type": "markdown",
   "metadata": {},
   "source": [
    "#### Affichage Arbre"
   ]
  },
  {
   "cell_type": "code",
   "execution_count": 166,
   "metadata": {},
   "outputs": [
    {
     "data": {
      "image/svg+xml": [
       "<svg height=\"893pt\" viewBox=\"0.00 0.00 5725.50 893.00\" width=\"5726pt\" xmlns=\"http://www.w3.org/2000/svg\" xmlns:xlink=\"http://www.w3.org/1999/xlink\">\n",
       "<g class=\"graph\" id=\"graph0\" transform=\"scale(1 1) rotate(0) translate(4 889)\">\n",
       "<title>Tree</title>\n",
       "<polygon fill=\"white\" points=\"-4,4 -4,-889 5721.5,-889 5721.5,4 -4,4\" stroke=\"none\"/>\n",
       "<!-- 0 -->\n",
       "<g class=\"node\" id=\"node1\"><title>0</title>\n",
       "<polygon fill=\"none\" points=\"1370.5,-885 1077.5,-885 1077.5,-817 1370.5,-817 1370.5,-885\" stroke=\"black\"/>\n",
       "<text font-family=\"Times New Roman,serif\" font-size=\"14.00\" text-anchor=\"middle\" x=\"1224\" y=\"-869.8\">X[1] &lt;= 0.639</text>\n",
       "<text font-family=\"Times New Roman,serif\" font-size=\"14.00\" text-anchor=\"middle\" x=\"1224\" y=\"-854.8\">gini = 0.909</text>\n",
       "<text font-family=\"Times New Roman,serif\" font-size=\"14.00\" text-anchor=\"middle\" x=\"1224\" y=\"-839.8\">samples = 528</text>\n",
       "<text font-family=\"Times New Roman,serif\" font-size=\"14.00\" text-anchor=\"middle\" x=\"1224\" y=\"-824.8\">value = [48, 48, 48, 48, 48, 48, 48, 48, 48, 48, 48]</text>\n",
       "</g>\n",
       "<!-- 1 -->\n",
       "<g class=\"node\" id=\"node2\"><title>1</title>\n",
       "<polygon fill=\"none\" points=\"836.5,-781 597.5,-781 597.5,-713 836.5,-713 836.5,-781\" stroke=\"black\"/>\n",
       "<text font-family=\"Times New Roman,serif\" font-size=\"14.00\" text-anchor=\"middle\" x=\"717\" y=\"-765.8\">X[1] &lt;= -0.123</text>\n",
       "<text font-family=\"Times New Roman,serif\" font-size=\"14.00\" text-anchor=\"middle\" x=\"717\" y=\"-750.8\">gini = 0.604</text>\n",
       "<text font-family=\"Times New Roman,serif\" font-size=\"14.00\" text-anchor=\"middle\" x=\"717\" y=\"-735.8\">samples = 93</text>\n",
       "<text font-family=\"Times New Roman,serif\" font-size=\"14.00\" text-anchor=\"middle\" x=\"717\" y=\"-720.8\">value = [42, 39, 12, 0, 0, 0, 0, 0, 0, 0, 0]</text>\n",
       "</g>\n",
       "<!-- 0&#45;&gt;1 -->\n",
       "<g class=\"edge\" id=\"edge1\"><title>0-&gt;1</title>\n",
       "<path d=\"M1077.35,-820.497C1004.45,-805.831 917.12,-788.261 846.689,-774.091\" fill=\"none\" stroke=\"black\"/>\n",
       "<polygon fill=\"black\" points=\"847.36,-770.656 836.866,-772.115 845.979,-777.519 847.36,-770.656\" stroke=\"black\"/>\n",
       "<text font-family=\"Times New Roman,serif\" font-size=\"14.00\" text-anchor=\"middle\" x=\"850.71\" y=\"-789.232\">True</text>\n",
       "</g>\n",
       "<!-- 12 -->\n",
       "<g class=\"node\" id=\"node13\"><title>12</title>\n",
       "<polygon fill=\"none\" points=\"1991,-781 1711,-781 1711,-713 1991,-713 1991,-781\" stroke=\"black\"/>\n",
       "<text font-family=\"Times New Roman,serif\" font-size=\"14.00\" text-anchor=\"middle\" x=\"1851\" y=\"-765.8\">X[0] &lt;= -3.143</text>\n",
       "<text font-family=\"Times New Roman,serif\" font-size=\"14.00\" text-anchor=\"middle\" x=\"1851\" y=\"-750.8\">gini = 0.895</text>\n",
       "<text font-family=\"Times New Roman,serif\" font-size=\"14.00\" text-anchor=\"middle\" x=\"1851\" y=\"-735.8\">samples = 435</text>\n",
       "<text font-family=\"Times New Roman,serif\" font-size=\"14.00\" text-anchor=\"middle\" x=\"1851\" y=\"-720.8\">value = [6, 9, 36, 48, 48, 48, 48, 48, 48, 48, 48]</text>\n",
       "</g>\n",
       "<!-- 0&#45;&gt;12 -->\n",
       "<g class=\"edge\" id=\"edge12\"><title>0-&gt;12</title>\n",
       "<path d=\"M1370.61,-826.15C1469.99,-809.982 1600.96,-788.677 1701.04,-772.395\" fill=\"none\" stroke=\"black\"/>\n",
       "<polygon fill=\"black\" points=\"1701.62,-775.846 1710.93,-770.786 1700.5,-768.937 1701.62,-775.846\" stroke=\"black\"/>\n",
       "<text font-family=\"Times New Roman,serif\" font-size=\"14.00\" text-anchor=\"middle\" x=\"1696.32\" y=\"-787.373\">False</text>\n",
       "</g>\n",
       "<!-- 2 -->\n",
       "<g class=\"node\" id=\"node3\"><title>2</title>\n",
       "<polygon fill=\"none\" points=\"579,-669.5 353,-669.5 353,-616.5 579,-616.5 579,-669.5\" stroke=\"black\"/>\n",
       "<text font-family=\"Times New Roman,serif\" font-size=\"14.00\" text-anchor=\"middle\" x=\"466\" y=\"-654.3\">gini = 0.0</text>\n",
       "<text font-family=\"Times New Roman,serif\" font-size=\"14.00\" text-anchor=\"middle\" x=\"466\" y=\"-639.3\">samples = 26</text>\n",
       "<text font-family=\"Times New Roman,serif\" font-size=\"14.00\" text-anchor=\"middle\" x=\"466\" y=\"-624.3\">value = [26, 0, 0, 0, 0, 0, 0, 0, 0, 0, 0]</text>\n",
       "</g>\n",
       "<!-- 1&#45;&gt;2 -->\n",
       "<g class=\"edge\" id=\"edge2\"><title>1-&gt;2</title>\n",
       "<path d=\"M635.507,-712.884C604.114,-700.126 568.514,-685.659 538.071,-673.288\" fill=\"none\" stroke=\"black\"/>\n",
       "<polygon fill=\"black\" points=\"539.381,-670.042 528.799,-669.52 536.746,-676.527 539.381,-670.042\" stroke=\"black\"/>\n",
       "</g>\n",
       "<!-- 3 -->\n",
       "<g class=\"node\" id=\"node4\"><title>3</title>\n",
       "<polygon fill=\"none\" points=\"836.5,-677 597.5,-677 597.5,-609 836.5,-609 836.5,-677\" stroke=\"black\"/>\n",
       "<text font-family=\"Times New Roman,serif\" font-size=\"14.00\" text-anchor=\"middle\" x=\"717\" y=\"-661.8\">X[0] &lt;= -3.568</text>\n",
       "<text font-family=\"Times New Roman,serif\" font-size=\"14.00\" text-anchor=\"middle\" x=\"717\" y=\"-646.8\">gini = 0.572</text>\n",
       "<text font-family=\"Times New Roman,serif\" font-size=\"14.00\" text-anchor=\"middle\" x=\"717\" y=\"-631.8\">samples = 67</text>\n",
       "<text font-family=\"Times New Roman,serif\" font-size=\"14.00\" text-anchor=\"middle\" x=\"717\" y=\"-616.8\">value = [16, 39, 12, 0, 0, 0, 0, 0, 0, 0, 0]</text>\n",
       "</g>\n",
       "<!-- 1&#45;&gt;3 -->\n",
       "<g class=\"edge\" id=\"edge3\"><title>1-&gt;3</title>\n",
       "<path d=\"M717,-712.884C717,-704.778 717,-695.982 717,-687.472\" fill=\"none\" stroke=\"black\"/>\n",
       "<polygon fill=\"black\" points=\"720.5,-687.299 717,-677.299 713.5,-687.299 720.5,-687.299\" stroke=\"black\"/>\n",
       "</g>\n",
       "<!-- 4 -->\n",
       "<g class=\"node\" id=\"node5\"><title>4</title>\n",
       "<polygon fill=\"none\" points=\"582,-565.5 356,-565.5 356,-512.5 582,-512.5 582,-565.5\" stroke=\"black\"/>\n",
       "<text font-family=\"Times New Roman,serif\" font-size=\"14.00\" text-anchor=\"middle\" x=\"469\" y=\"-550.3\">gini = 0.0</text>\n",
       "<text font-family=\"Times New Roman,serif\" font-size=\"14.00\" text-anchor=\"middle\" x=\"469\" y=\"-535.3\">samples = 15</text>\n",
       "<text font-family=\"Times New Roman,serif\" font-size=\"14.00\" text-anchor=\"middle\" x=\"469\" y=\"-520.3\">value = [15, 0, 0, 0, 0, 0, 0, 0, 0, 0, 0]</text>\n",
       "</g>\n",
       "<!-- 3&#45;&gt;4 -->\n",
       "<g class=\"edge\" id=\"edge4\"><title>3-&gt;4</title>\n",
       "<path d=\"M636.482,-608.884C605.597,-596.181 570.592,-581.784 540.599,-569.448\" fill=\"none\" stroke=\"black\"/>\n",
       "<polygon fill=\"black\" points=\"541.628,-566.087 531.048,-565.52 538.965,-572.561 541.628,-566.087\" stroke=\"black\"/>\n",
       "</g>\n",
       "<!-- 5 -->\n",
       "<g class=\"node\" id=\"node6\"><title>5</title>\n",
       "<polygon fill=\"none\" points=\"833.5,-573 600.5,-573 600.5,-505 833.5,-505 833.5,-573\" stroke=\"black\"/>\n",
       "<text font-family=\"Times New Roman,serif\" font-size=\"14.00\" text-anchor=\"middle\" x=\"717\" y=\"-557.8\">X[5] &lt;= 0.955</text>\n",
       "<text font-family=\"Times New Roman,serif\" font-size=\"14.00\" text-anchor=\"middle\" x=\"717\" y=\"-542.8\">gini = 0.384</text>\n",
       "<text font-family=\"Times New Roman,serif\" font-size=\"14.00\" text-anchor=\"middle\" x=\"717\" y=\"-527.8\">samples = 52</text>\n",
       "<text font-family=\"Times New Roman,serif\" font-size=\"14.00\" text-anchor=\"middle\" x=\"717\" y=\"-512.8\">value = [1, 39, 12, 0, 0, 0, 0, 0, 0, 0, 0]</text>\n",
       "</g>\n",
       "<!-- 3&#45;&gt;5 -->\n",
       "<g class=\"edge\" id=\"edge5\"><title>3-&gt;5</title>\n",
       "<path d=\"M717,-608.884C717,-600.778 717,-591.982 717,-583.472\" fill=\"none\" stroke=\"black\"/>\n",
       "<polygon fill=\"black\" points=\"720.5,-583.299 717,-573.299 713.5,-583.299 720.5,-583.299\" stroke=\"black\"/>\n",
       "</g>\n",
       "<!-- 6 -->\n",
       "<g class=\"node\" id=\"node7\"><title>6</title>\n",
       "<polygon fill=\"none\" points=\"467,-469 241,-469 241,-401 467,-401 467,-469\" stroke=\"black\"/>\n",
       "<text font-family=\"Times New Roman,serif\" font-size=\"14.00\" text-anchor=\"middle\" x=\"354\" y=\"-453.8\">X[4] &lt;= 0.409</text>\n",
       "<text font-family=\"Times New Roman,serif\" font-size=\"14.00\" text-anchor=\"middle\" x=\"354\" y=\"-438.8\">gini = 0.49</text>\n",
       "<text font-family=\"Times New Roman,serif\" font-size=\"14.00\" text-anchor=\"middle\" x=\"354\" y=\"-423.8\">samples = 21</text>\n",
       "<text font-family=\"Times New Roman,serif\" font-size=\"14.00\" text-anchor=\"middle\" x=\"354\" y=\"-408.8\">value = [0, 9, 12, 0, 0, 0, 0, 0, 0, 0, 0]</text>\n",
       "</g>\n",
       "<!-- 5&#45;&gt;6 -->\n",
       "<g class=\"edge\" id=\"edge6\"><title>5-&gt;6</title>\n",
       "<path d=\"M600.146,-505.165C560.799,-494.109 516.789,-481.742 476.984,-470.557\" fill=\"none\" stroke=\"black\"/>\n",
       "<polygon fill=\"black\" points=\"477.802,-467.152 467.228,-467.816 475.909,-473.891 477.802,-467.152\" stroke=\"black\"/>\n",
       "</g>\n",
       "<!-- 9 -->\n",
       "<g class=\"node\" id=\"node10\"><title>9</title>\n",
       "<polygon fill=\"none\" points=\"830,-469 604,-469 604,-401 830,-401 830,-469\" stroke=\"black\"/>\n",
       "<text font-family=\"Times New Roman,serif\" font-size=\"14.00\" text-anchor=\"middle\" x=\"717\" y=\"-453.8\">X[6] &lt;= 0.339</text>\n",
       "<text font-family=\"Times New Roman,serif\" font-size=\"14.00\" text-anchor=\"middle\" x=\"717\" y=\"-438.8\">gini = 0.062</text>\n",
       "<text font-family=\"Times New Roman,serif\" font-size=\"14.00\" text-anchor=\"middle\" x=\"717\" y=\"-423.8\">samples = 31</text>\n",
       "<text font-family=\"Times New Roman,serif\" font-size=\"14.00\" text-anchor=\"middle\" x=\"717\" y=\"-408.8\">value = [1, 30, 0, 0, 0, 0, 0, 0, 0, 0, 0]</text>\n",
       "</g>\n",
       "<!-- 5&#45;&gt;9 -->\n",
       "<g class=\"edge\" id=\"edge9\"><title>5-&gt;9</title>\n",
       "<path d=\"M717,-504.884C717,-496.778 717,-487.982 717,-479.472\" fill=\"none\" stroke=\"black\"/>\n",
       "<polygon fill=\"black\" points=\"720.5,-479.299 717,-469.299 713.5,-479.299 720.5,-479.299\" stroke=\"black\"/>\n",
       "</g>\n",
       "<!-- 7 -->\n",
       "<g class=\"node\" id=\"node8\"><title>7</title>\n",
       "<polygon fill=\"none\" points=\"226,-357.5 0,-357.5 0,-304.5 226,-304.5 226,-357.5\" stroke=\"black\"/>\n",
       "<text font-family=\"Times New Roman,serif\" font-size=\"14.00\" text-anchor=\"middle\" x=\"113\" y=\"-342.3\">gini = 0.0</text>\n",
       "<text font-family=\"Times New Roman,serif\" font-size=\"14.00\" text-anchor=\"middle\" x=\"113\" y=\"-327.3\">samples = 11</text>\n",
       "<text font-family=\"Times New Roman,serif\" font-size=\"14.00\" text-anchor=\"middle\" x=\"113\" y=\"-312.3\">value = [0, 0, 11, 0, 0, 0, 0, 0, 0, 0, 0]</text>\n",
       "</g>\n",
       "<!-- 6&#45;&gt;7 -->\n",
       "<g class=\"edge\" id=\"edge7\"><title>6-&gt;7</title>\n",
       "<path d=\"M275.754,-400.884C245.741,-388.181 211.724,-373.784 182.578,-361.448\" fill=\"none\" stroke=\"black\"/>\n",
       "<polygon fill=\"black\" points=\"183.87,-358.194 173.297,-357.52 181.142,-364.641 183.87,-358.194\" stroke=\"black\"/>\n",
       "</g>\n",
       "<!-- 8 -->\n",
       "<g class=\"node\" id=\"node9\"><title>8</title>\n",
       "<polygon fill=\"none\" points=\"463.5,-357.5 244.5,-357.5 244.5,-304.5 463.5,-304.5 463.5,-357.5\" stroke=\"black\"/>\n",
       "<text font-family=\"Times New Roman,serif\" font-size=\"14.00\" text-anchor=\"middle\" x=\"354\" y=\"-342.3\">gini = 0.18</text>\n",
       "<text font-family=\"Times New Roman,serif\" font-size=\"14.00\" text-anchor=\"middle\" x=\"354\" y=\"-327.3\">samples = 10</text>\n",
       "<text font-family=\"Times New Roman,serif\" font-size=\"14.00\" text-anchor=\"middle\" x=\"354\" y=\"-312.3\">value = [0, 9, 1, 0, 0, 0, 0, 0, 0, 0, 0]</text>\n",
       "</g>\n",
       "<!-- 6&#45;&gt;8 -->\n",
       "<g class=\"edge\" id=\"edge8\"><title>6-&gt;8</title>\n",
       "<path d=\"M354,-400.884C354,-390.326 354,-378.597 354,-367.854\" fill=\"none\" stroke=\"black\"/>\n",
       "<polygon fill=\"black\" points=\"357.5,-367.52 354,-357.52 350.5,-367.52 357.5,-367.52\" stroke=\"black\"/>\n",
       "</g>\n",
       "<!-- 10 -->\n",
       "<g class=\"node\" id=\"node11\"><title>10</title>\n",
       "<polygon fill=\"none\" points=\"708,-357.5 482,-357.5 482,-304.5 708,-304.5 708,-357.5\" stroke=\"black\"/>\n",
       "<text font-family=\"Times New Roman,serif\" font-size=\"14.00\" text-anchor=\"middle\" x=\"595\" y=\"-342.3\">gini = 0.0</text>\n",
       "<text font-family=\"Times New Roman,serif\" font-size=\"14.00\" text-anchor=\"middle\" x=\"595\" y=\"-327.3\">samples = 21</text>\n",
       "<text font-family=\"Times New Roman,serif\" font-size=\"14.00\" text-anchor=\"middle\" x=\"595\" y=\"-312.3\">value = [0, 21, 0, 0, 0, 0, 0, 0, 0, 0, 0]</text>\n",
       "</g>\n",
       "<!-- 9&#45;&gt;10 -->\n",
       "<g class=\"edge\" id=\"edge10\"><title>9-&gt;10</title>\n",
       "<path d=\"M677.39,-400.884C663.315,-389.116 647.5,-375.894 633.518,-364.203\" fill=\"none\" stroke=\"black\"/>\n",
       "<polygon fill=\"black\" points=\"635.441,-361.249 625.524,-357.52 630.951,-366.619 635.441,-361.249\" stroke=\"black\"/>\n",
       "</g>\n",
       "<!-- 11 -->\n",
       "<g class=\"node\" id=\"node12\"><title>11</title>\n",
       "<polygon fill=\"none\" points=\"945.5,-357.5 726.5,-357.5 726.5,-304.5 945.5,-304.5 945.5,-357.5\" stroke=\"black\"/>\n",
       "<text font-family=\"Times New Roman,serif\" font-size=\"14.00\" text-anchor=\"middle\" x=\"836\" y=\"-342.3\">gini = 0.18</text>\n",
       "<text font-family=\"Times New Roman,serif\" font-size=\"14.00\" text-anchor=\"middle\" x=\"836\" y=\"-327.3\">samples = 10</text>\n",
       "<text font-family=\"Times New Roman,serif\" font-size=\"14.00\" text-anchor=\"middle\" x=\"836\" y=\"-312.3\">value = [1, 9, 0, 0, 0, 0, 0, 0, 0, 0, 0]</text>\n",
       "</g>\n",
       "<!-- 9&#45;&gt;11 -->\n",
       "<g class=\"edge\" id=\"edge11\"><title>9-&gt;11</title>\n",
       "<path d=\"M755.636,-400.884C769.365,-389.116 784.791,-375.894 798.429,-364.203\" fill=\"none\" stroke=\"black\"/>\n",
       "<polygon fill=\"black\" points=\"800.912,-366.685 806.227,-357.52 796.356,-361.37 800.912,-366.685\" stroke=\"black\"/>\n",
       "</g>\n",
       "<!-- 13 -->\n",
       "<g class=\"node\" id=\"node14\"><title>13</title>\n",
       "<polygon fill=\"none\" points=\"1974,-677 1728,-677 1728,-609 1974,-609 1974,-677\" stroke=\"black\"/>\n",
       "<text font-family=\"Times New Roman,serif\" font-size=\"14.00\" text-anchor=\"middle\" x=\"1851\" y=\"-661.8\">X[4] &lt;= -1.019</text>\n",
       "<text font-family=\"Times New Roman,serif\" font-size=\"14.00\" text-anchor=\"middle\" x=\"1851\" y=\"-646.8\">gini = 0.83</text>\n",
       "<text font-family=\"Times New Roman,serif\" font-size=\"14.00\" text-anchor=\"middle\" x=\"1851\" y=\"-631.8\">samples = 215</text>\n",
       "<text font-family=\"Times New Roman,serif\" font-size=\"14.00\" text-anchor=\"middle\" x=\"1851\" y=\"-616.8\">value = [6, 9, 8, 6, 4, 6, 27, 48, 47, 48, 6]</text>\n",
       "</g>\n",
       "<!-- 12&#45;&gt;13 -->\n",
       "<g class=\"edge\" id=\"edge13\"><title>12-&gt;13</title>\n",
       "<path d=\"M1851,-712.884C1851,-704.778 1851,-695.982 1851,-687.472\" fill=\"none\" stroke=\"black\"/>\n",
       "<polygon fill=\"black\" points=\"1854.5,-687.299 1851,-677.299 1847.5,-687.299 1854.5,-687.299\" stroke=\"black\"/>\n",
       "</g>\n",
       "<!-- 44 -->\n",
       "<g class=\"node\" id=\"node45\"><title>44</title>\n",
       "<polygon fill=\"none\" points=\"4410,-677 4150,-677 4150,-609 4410,-609 4410,-677\" stroke=\"black\"/>\n",
       "<text font-family=\"Times New Roman,serif\" font-size=\"14.00\" text-anchor=\"middle\" x=\"4280\" y=\"-661.8\">X[0] &lt;= -2.313</text>\n",
       "<text font-family=\"Times New Roman,serif\" font-size=\"14.00\" text-anchor=\"middle\" x=\"4280\" y=\"-646.8\">gini = 0.825</text>\n",
       "<text font-family=\"Times New Roman,serif\" font-size=\"14.00\" text-anchor=\"middle\" x=\"4280\" y=\"-631.8\">samples = 220</text>\n",
       "<text font-family=\"Times New Roman,serif\" font-size=\"14.00\" text-anchor=\"middle\" x=\"4280\" y=\"-616.8\">value = [0, 0, 28, 42, 44, 42, 21, 0, 1, 0, 42]</text>\n",
       "</g>\n",
       "<!-- 12&#45;&gt;44 -->\n",
       "<g class=\"edge\" id=\"edge44\"><title>12-&gt;44</title>\n",
       "<path d=\"M1991.2,-740.112C2420,-722.106 3710.69,-667.907 4139.66,-649.893\" fill=\"none\" stroke=\"black\"/>\n",
       "<polygon fill=\"black\" points=\"4140.1,-653.378 4149.95,-649.461 4139.81,-646.384 4140.1,-653.378\" stroke=\"black\"/>\n",
       "</g>\n",
       "<!-- 14 -->\n",
       "<g class=\"node\" id=\"node15\"><title>14</title>\n",
       "<polygon fill=\"none\" points=\"1794.5,-573 1555.5,-573 1555.5,-505 1794.5,-505 1794.5,-573\" stroke=\"black\"/>\n",
       "<text font-family=\"Times New Roman,serif\" font-size=\"14.00\" text-anchor=\"middle\" x=\"1675\" y=\"-557.8\">X[0] &lt;= -3.562</text>\n",
       "<text font-family=\"Times New Roman,serif\" font-size=\"14.00\" text-anchor=\"middle\" x=\"1675\" y=\"-542.8\">gini = 0.581</text>\n",
       "<text font-family=\"Times New Roman,serif\" font-size=\"14.00\" text-anchor=\"middle\" x=\"1675\" y=\"-527.8\">samples = 62</text>\n",
       "<text font-family=\"Times New Roman,serif\" font-size=\"14.00\" text-anchor=\"middle\" x=\"1675\" y=\"-512.8\">value = [0, 0, 0, 0, 0, 0, 12, 36, 13, 1, 0]</text>\n",
       "</g>\n",
       "<!-- 13&#45;&gt;14 -->\n",
       "<g class=\"edge\" id=\"edge14\"><title>13-&gt;14</title>\n",
       "<path d=\"M1793.86,-608.884C1777.02,-599.125 1758.46,-588.366 1741.1,-578.31\" fill=\"none\" stroke=\"black\"/>\n",
       "<polygon fill=\"black\" points=\"1742.56,-575.111 1732.16,-573.125 1739.05,-581.167 1742.56,-575.111\" stroke=\"black\"/>\n",
       "</g>\n",
       "<!-- 23 -->\n",
       "<g class=\"node\" id=\"node24\"><title>23</title>\n",
       "<polygon fill=\"none\" points=\"2266,-573 2020,-573 2020,-505 2266,-505 2266,-573\" stroke=\"black\"/>\n",
       "<text font-family=\"Times New Roman,serif\" font-size=\"14.00\" text-anchor=\"middle\" x=\"2143\" y=\"-557.8\">X[0] &lt;= -4.668</text>\n",
       "<text font-family=\"Times New Roman,serif\" font-size=\"14.00\" text-anchor=\"middle\" x=\"2143\" y=\"-542.8\">gini = 0.827</text>\n",
       "<text font-family=\"Times New Roman,serif\" font-size=\"14.00\" text-anchor=\"middle\" x=\"2143\" y=\"-527.8\">samples = 153</text>\n",
       "<text font-family=\"Times New Roman,serif\" font-size=\"14.00\" text-anchor=\"middle\" x=\"2143\" y=\"-512.8\">value = [6, 9, 8, 6, 4, 6, 15, 12, 34, 47, 6]</text>\n",
       "</g>\n",
       "<!-- 13&#45;&gt;23 -->\n",
       "<g class=\"edge\" id=\"edge23\"><title>13-&gt;23</title>\n",
       "<path d=\"M1945.8,-608.884C1975.41,-598.543 2008.22,-587.079 2038.46,-576.519\" fill=\"none\" stroke=\"black\"/>\n",
       "<polygon fill=\"black\" points=\"2039.89,-579.727 2048.17,-573.125 2037.58,-573.118 2039.89,-579.727\" stroke=\"black\"/>\n",
       "</g>\n",
       "<!-- 15 -->\n",
       "<g class=\"node\" id=\"node16\"><title>15</title>\n",
       "<polygon fill=\"none\" points=\"1427,-469 1201,-469 1201,-401 1427,-401 1427,-469\" stroke=\"black\"/>\n",
       "<text font-family=\"Times New Roman,serif\" font-size=\"14.00\" text-anchor=\"middle\" x=\"1314\" y=\"-453.8\">X[7] &lt;= 0.572</text>\n",
       "<text font-family=\"Times New Roman,serif\" font-size=\"14.00\" text-anchor=\"middle\" x=\"1314\" y=\"-438.8\">gini = 0.301</text>\n",
       "<text font-family=\"Times New Roman,serif\" font-size=\"14.00\" text-anchor=\"middle\" x=\"1314\" y=\"-423.8\">samples = 41</text>\n",
       "<text font-family=\"Times New Roman,serif\" font-size=\"14.00\" text-anchor=\"middle\" x=\"1314\" y=\"-408.8\">value = [0, 0, 0, 0, 0, 0, 3, 34, 3, 1, 0]</text>\n",
       "</g>\n",
       "<!-- 14&#45;&gt;15 -->\n",
       "<g class=\"edge\" id=\"edge15\"><title>14-&gt;15</title>\n",
       "<path d=\"M1557.79,-504.884C1519.17,-493.971 1476.12,-481.807 1437.07,-470.774\" fill=\"none\" stroke=\"black\"/>\n",
       "<polygon fill=\"black\" points=\"1437.81,-467.346 1427.24,-467.995 1435.91,-474.082 1437.81,-467.346\" stroke=\"black\"/>\n",
       "</g>\n",
       "<!-- 20 -->\n",
       "<g class=\"node\" id=\"node21\"><title>20</title>\n",
       "<polygon fill=\"none\" points=\"1788,-469 1562,-469 1562,-401 1788,-401 1788,-469\" stroke=\"black\"/>\n",
       "<text font-family=\"Times New Roman,serif\" font-size=\"14.00\" text-anchor=\"middle\" x=\"1675\" y=\"-453.8\">X[1] &lt;= 1.739</text>\n",
       "<text font-family=\"Times New Roman,serif\" font-size=\"14.00\" text-anchor=\"middle\" x=\"1675\" y=\"-438.8\">gini = 0.58</text>\n",
       "<text font-family=\"Times New Roman,serif\" font-size=\"14.00\" text-anchor=\"middle\" x=\"1675\" y=\"-423.8\">samples = 21</text>\n",
       "<text font-family=\"Times New Roman,serif\" font-size=\"14.00\" text-anchor=\"middle\" x=\"1675\" y=\"-408.8\">value = [0, 0, 0, 0, 0, 0, 9, 2, 10, 0, 0]</text>\n",
       "</g>\n",
       "<!-- 14&#45;&gt;20 -->\n",
       "<g class=\"edge\" id=\"edge20\"><title>14-&gt;20</title>\n",
       "<path d=\"M1675,-504.884C1675,-496.778 1675,-487.982 1675,-479.472\" fill=\"none\" stroke=\"black\"/>\n",
       "<polygon fill=\"black\" points=\"1678.5,-479.299 1675,-469.299 1671.5,-479.299 1678.5,-479.299\" stroke=\"black\"/>\n",
       "</g>\n",
       "<!-- 16 -->\n",
       "<g class=\"node\" id=\"node17\"><title>16</title>\n",
       "<polygon fill=\"none\" points=\"1182.5,-357.5 963.5,-357.5 963.5,-304.5 1182.5,-304.5 1182.5,-357.5\" stroke=\"black\"/>\n",
       "<text font-family=\"Times New Roman,serif\" font-size=\"14.00\" text-anchor=\"middle\" x=\"1073\" y=\"-342.3\">gini = 0.7</text>\n",
       "<text font-family=\"Times New Roman,serif\" font-size=\"14.00\" text-anchor=\"middle\" x=\"1073\" y=\"-327.3\">samples = 10</text>\n",
       "<text font-family=\"Times New Roman,serif\" font-size=\"14.00\" text-anchor=\"middle\" x=\"1073\" y=\"-312.3\">value = [0, 0, 0, 0, 0, 0, 2, 4, 3, 1, 0]</text>\n",
       "</g>\n",
       "<!-- 15&#45;&gt;16 -->\n",
       "<g class=\"edge\" id=\"edge16\"><title>15-&gt;16</title>\n",
       "<path d=\"M1235.75,-400.884C1205.74,-388.181 1171.72,-373.784 1142.58,-361.448\" fill=\"none\" stroke=\"black\"/>\n",
       "<polygon fill=\"black\" points=\"1143.87,-358.194 1133.3,-357.52 1141.14,-364.641 1143.87,-358.194\" stroke=\"black\"/>\n",
       "</g>\n",
       "<!-- 17 -->\n",
       "<g class=\"node\" id=\"node18\"><title>17</title>\n",
       "<polygon fill=\"none\" points=\"1427,-365 1201,-365 1201,-297 1427,-297 1427,-365\" stroke=\"black\"/>\n",
       "<text font-family=\"Times New Roman,serif\" font-size=\"14.00\" text-anchor=\"middle\" x=\"1314\" y=\"-349.8\">X[9] &lt;= -0.207</text>\n",
       "<text font-family=\"Times New Roman,serif\" font-size=\"14.00\" text-anchor=\"middle\" x=\"1314\" y=\"-334.8\">gini = 0.062</text>\n",
       "<text font-family=\"Times New Roman,serif\" font-size=\"14.00\" text-anchor=\"middle\" x=\"1314\" y=\"-319.8\">samples = 31</text>\n",
       "<text font-family=\"Times New Roman,serif\" font-size=\"14.00\" text-anchor=\"middle\" x=\"1314\" y=\"-304.8\">value = [0, 0, 0, 0, 0, 0, 1, 30, 0, 0, 0]</text>\n",
       "</g>\n",
       "<!-- 15&#45;&gt;17 -->\n",
       "<g class=\"edge\" id=\"edge17\"><title>15-&gt;17</title>\n",
       "<path d=\"M1314,-400.884C1314,-392.778 1314,-383.982 1314,-375.472\" fill=\"none\" stroke=\"black\"/>\n",
       "<polygon fill=\"black\" points=\"1317.5,-375.299 1314,-365.299 1310.5,-375.299 1317.5,-375.299\" stroke=\"black\"/>\n",
       "</g>\n",
       "<!-- 18 -->\n",
       "<g class=\"node\" id=\"node19\"><title>18</title>\n",
       "<polygon fill=\"none\" points=\"1302.5,-253.5 1083.5,-253.5 1083.5,-200.5 1302.5,-200.5 1302.5,-253.5\" stroke=\"black\"/>\n",
       "<text font-family=\"Times New Roman,serif\" font-size=\"14.00\" text-anchor=\"middle\" x=\"1193\" y=\"-238.3\">gini = 0.18</text>\n",
       "<text font-family=\"Times New Roman,serif\" font-size=\"14.00\" text-anchor=\"middle\" x=\"1193\" y=\"-223.3\">samples = 10</text>\n",
       "<text font-family=\"Times New Roman,serif\" font-size=\"14.00\" text-anchor=\"middle\" x=\"1193\" y=\"-208.3\">value = [0, 0, 0, 0, 0, 0, 1, 9, 0, 0, 0]</text>\n",
       "</g>\n",
       "<!-- 17&#45;&gt;18 -->\n",
       "<g class=\"edge\" id=\"edge18\"><title>17-&gt;18</title>\n",
       "<path d=\"M1274.71,-296.884C1260.76,-285.116 1245.07,-271.894 1231.2,-260.203\" fill=\"none\" stroke=\"black\"/>\n",
       "<polygon fill=\"black\" points=\"1233.18,-257.289 1223.27,-253.52 1228.66,-262.641 1233.18,-257.289\" stroke=\"black\"/>\n",
       "</g>\n",
       "<!-- 19 -->\n",
       "<g class=\"node\" id=\"node20\"><title>19</title>\n",
       "<polygon fill=\"none\" points=\"1547,-253.5 1321,-253.5 1321,-200.5 1547,-200.5 1547,-253.5\" stroke=\"black\"/>\n",
       "<text font-family=\"Times New Roman,serif\" font-size=\"14.00\" text-anchor=\"middle\" x=\"1434\" y=\"-238.3\">gini = 0.0</text>\n",
       "<text font-family=\"Times New Roman,serif\" font-size=\"14.00\" text-anchor=\"middle\" x=\"1434\" y=\"-223.3\">samples = 21</text>\n",
       "<text font-family=\"Times New Roman,serif\" font-size=\"14.00\" text-anchor=\"middle\" x=\"1434\" y=\"-208.3\">value = [0, 0, 0, 0, 0, 0, 0, 21, 0, 0, 0]</text>\n",
       "</g>\n",
       "<!-- 17&#45;&gt;19 -->\n",
       "<g class=\"edge\" id=\"edge19\"><title>17-&gt;19</title>\n",
       "<path d=\"M1352.96,-296.884C1366.8,-285.116 1382.36,-271.894 1396.11,-260.203\" fill=\"none\" stroke=\"black\"/>\n",
       "<polygon fill=\"black\" points=\"1398.62,-262.663 1403.98,-253.52 1394.09,-257.33 1398.62,-262.663\" stroke=\"black\"/>\n",
       "</g>\n",
       "<!-- 21 -->\n",
       "<g class=\"node\" id=\"node22\"><title>21</title>\n",
       "<polygon fill=\"none\" points=\"1664.5,-357.5 1445.5,-357.5 1445.5,-304.5 1664.5,-304.5 1664.5,-357.5\" stroke=\"black\"/>\n",
       "<text font-family=\"Times New Roman,serif\" font-size=\"14.00\" text-anchor=\"middle\" x=\"1555\" y=\"-342.3\">gini = 0.32</text>\n",
       "<text font-family=\"Times New Roman,serif\" font-size=\"14.00\" text-anchor=\"middle\" x=\"1555\" y=\"-327.3\">samples = 10</text>\n",
       "<text font-family=\"Times New Roman,serif\" font-size=\"14.00\" text-anchor=\"middle\" x=\"1555\" y=\"-312.3\">value = [0, 0, 0, 0, 0, 0, 0, 2, 8, 0, 0]</text>\n",
       "</g>\n",
       "<!-- 20&#45;&gt;21 -->\n",
       "<g class=\"edge\" id=\"edge21\"><title>20-&gt;21</title>\n",
       "<path d=\"M1636.04,-400.884C1622.2,-389.116 1606.64,-375.894 1592.89,-364.203\" fill=\"none\" stroke=\"black\"/>\n",
       "<polygon fill=\"black\" points=\"1594.91,-361.33 1585.02,-357.52 1590.38,-366.663 1594.91,-361.33\" stroke=\"black\"/>\n",
       "</g>\n",
       "<!-- 22 -->\n",
       "<g class=\"node\" id=\"node23\"><title>22</title>\n",
       "<polygon fill=\"none\" points=\"1901.5,-357.5 1682.5,-357.5 1682.5,-304.5 1901.5,-304.5 1901.5,-357.5\" stroke=\"black\"/>\n",
       "<text font-family=\"Times New Roman,serif\" font-size=\"14.00\" text-anchor=\"middle\" x=\"1792\" y=\"-342.3\">gini = 0.298</text>\n",
       "<text font-family=\"Times New Roman,serif\" font-size=\"14.00\" text-anchor=\"middle\" x=\"1792\" y=\"-327.3\">samples = 11</text>\n",
       "<text font-family=\"Times New Roman,serif\" font-size=\"14.00\" text-anchor=\"middle\" x=\"1792\" y=\"-312.3\">value = [0, 0, 0, 0, 0, 0, 9, 0, 2, 0, 0]</text>\n",
       "</g>\n",
       "<!-- 20&#45;&gt;22 -->\n",
       "<g class=\"edge\" id=\"edge22\"><title>20-&gt;22</title>\n",
       "<path d=\"M1712.99,-400.884C1726.48,-389.116 1741.65,-375.894 1755.06,-364.203\" fill=\"none\" stroke=\"black\"/>\n",
       "<polygon fill=\"black\" points=\"1757.49,-366.73 1762.73,-357.52 1752.89,-361.453 1757.49,-366.73\" stroke=\"black\"/>\n",
       "</g>\n",
       "<!-- 24 -->\n",
       "<g class=\"node\" id=\"node25\"><title>24</title>\n",
       "<polygon fill=\"none\" points=\"2256,-469 2030,-469 2030,-401 2256,-401 2256,-469\" stroke=\"black\"/>\n",
       "<text font-family=\"Times New Roman,serif\" font-size=\"14.00\" text-anchor=\"middle\" x=\"2143\" y=\"-453.8\">X[6] &lt;= 0.088</text>\n",
       "<text font-family=\"Times New Roman,serif\" font-size=\"14.00\" text-anchor=\"middle\" x=\"2143\" y=\"-438.8\">gini = 0.337</text>\n",
       "<text font-family=\"Times New Roman,serif\" font-size=\"14.00\" text-anchor=\"middle\" x=\"2143\" y=\"-423.8\">samples = 28</text>\n",
       "<text font-family=\"Times New Roman,serif\" font-size=\"14.00\" text-anchor=\"middle\" x=\"2143\" y=\"-408.8\">value = [6, 0, 0, 0, 0, 0, 0, 0, 0, 22, 0]</text>\n",
       "</g>\n",
       "<!-- 23&#45;&gt;24 -->\n",
       "<g class=\"edge\" id=\"edge24\"><title>23-&gt;24</title>\n",
       "<path d=\"M2143,-504.884C2143,-496.778 2143,-487.982 2143,-479.472\" fill=\"none\" stroke=\"black\"/>\n",
       "<polygon fill=\"black\" points=\"2146.5,-479.299 2143,-469.299 2139.5,-479.299 2146.5,-479.299\" stroke=\"black\"/>\n",
       "</g>\n",
       "<!-- 27 -->\n",
       "<g class=\"node\" id=\"node28\"><title>27</title>\n",
       "<polygon fill=\"none\" points=\"2634,-469 2388,-469 2388,-401 2634,-401 2634,-469\" stroke=\"black\"/>\n",
       "<text font-family=\"Times New Roman,serif\" font-size=\"14.00\" text-anchor=\"middle\" x=\"2511\" y=\"-453.8\">X[7] &lt;= 0.056</text>\n",
       "<text font-family=\"Times New Roman,serif\" font-size=\"14.00\" text-anchor=\"middle\" x=\"2511\" y=\"-438.8\">gini = 0.845</text>\n",
       "<text font-family=\"Times New Roman,serif\" font-size=\"14.00\" text-anchor=\"middle\" x=\"2511\" y=\"-423.8\">samples = 125</text>\n",
       "<text font-family=\"Times New Roman,serif\" font-size=\"14.00\" text-anchor=\"middle\" x=\"2511\" y=\"-408.8\">value = [0, 9, 8, 6, 4, 6, 15, 12, 34, 25, 6]</text>\n",
       "</g>\n",
       "<!-- 23&#45;&gt;27 -->\n",
       "<g class=\"edge\" id=\"edge27\"><title>23-&gt;27</title>\n",
       "<path d=\"M2262.22,-504.954C2300.45,-494.36 2342.94,-482.581 2381.84,-471.799\" fill=\"none\" stroke=\"black\"/>\n",
       "<polygon fill=\"black\" points=\"2382.95,-475.125 2391.65,-469.081 2381.08,-468.379 2382.95,-475.125\" stroke=\"black\"/>\n",
       "</g>\n",
       "<!-- 25 -->\n",
       "<g class=\"node\" id=\"node26\"><title>25</title>\n",
       "<polygon fill=\"none\" points=\"2138.5,-357.5 1919.5,-357.5 1919.5,-304.5 2138.5,-304.5 2138.5,-357.5\" stroke=\"black\"/>\n",
       "<text font-family=\"Times New Roman,serif\" font-size=\"14.00\" text-anchor=\"middle\" x=\"2029\" y=\"-342.3\">gini = 0.48</text>\n",
       "<text font-family=\"Times New Roman,serif\" font-size=\"14.00\" text-anchor=\"middle\" x=\"2029\" y=\"-327.3\">samples = 10</text>\n",
       "<text font-family=\"Times New Roman,serif\" font-size=\"14.00\" text-anchor=\"middle\" x=\"2029\" y=\"-312.3\">value = [6, 0, 0, 0, 0, 0, 0, 0, 0, 4, 0]</text>\n",
       "</g>\n",
       "<!-- 24&#45;&gt;25 -->\n",
       "<g class=\"edge\" id=\"edge25\"><title>24-&gt;25</title>\n",
       "<path d=\"M2105.99,-400.884C2092.84,-389.116 2078.06,-375.894 2064.99,-364.203\" fill=\"none\" stroke=\"black\"/>\n",
       "<polygon fill=\"black\" points=\"2067.31,-361.58 2057.52,-357.52 2062.64,-366.796 2067.31,-361.58\" stroke=\"black\"/>\n",
       "</g>\n",
       "<!-- 26 -->\n",
       "<g class=\"node\" id=\"node27\"><title>26</title>\n",
       "<polygon fill=\"none\" points=\"2383,-357.5 2157,-357.5 2157,-304.5 2383,-304.5 2383,-357.5\" stroke=\"black\"/>\n",
       "<text font-family=\"Times New Roman,serif\" font-size=\"14.00\" text-anchor=\"middle\" x=\"2270\" y=\"-342.3\">gini = 0.0</text>\n",
       "<text font-family=\"Times New Roman,serif\" font-size=\"14.00\" text-anchor=\"middle\" x=\"2270\" y=\"-327.3\">samples = 18</text>\n",
       "<text font-family=\"Times New Roman,serif\" font-size=\"14.00\" text-anchor=\"middle\" x=\"2270\" y=\"-312.3\">value = [0, 0, 0, 0, 0, 0, 0, 0, 0, 18, 0]</text>\n",
       "</g>\n",
       "<!-- 24&#45;&gt;26 -->\n",
       "<g class=\"edge\" id=\"edge26\"><title>24-&gt;26</title>\n",
       "<path d=\"M2184.23,-400.884C2199.02,-389.006 2215.66,-375.646 2230.31,-363.876\" fill=\"none\" stroke=\"black\"/>\n",
       "<polygon fill=\"black\" points=\"2232.62,-366.511 2238.23,-357.52 2228.24,-361.053 2232.62,-366.511\" stroke=\"black\"/>\n",
       "</g>\n",
       "<!-- 28 -->\n",
       "<g class=\"node\" id=\"node29\"><title>28</title>\n",
       "<polygon fill=\"none\" points=\"2620.5,-365 2401.5,-365 2401.5,-297 2620.5,-297 2620.5,-365\" stroke=\"black\"/>\n",
       "<text font-family=\"Times New Roman,serif\" font-size=\"14.00\" text-anchor=\"middle\" x=\"2511\" y=\"-349.8\">X[3] &lt;= 0.925</text>\n",
       "<text font-family=\"Times New Roman,serif\" font-size=\"14.00\" text-anchor=\"middle\" x=\"2511\" y=\"-334.8\">gini = 0.825</text>\n",
       "<text font-family=\"Times New Roman,serif\" font-size=\"14.00\" text-anchor=\"middle\" x=\"2511\" y=\"-319.8\">samples = 37</text>\n",
       "<text font-family=\"Times New Roman,serif\" font-size=\"14.00\" text-anchor=\"middle\" x=\"2511\" y=\"-304.8\">value = [0, 9, 8, 0, 4, 4, 1, 0, 0, 5, 6]</text>\n",
       "</g>\n",
       "<!-- 27&#45;&gt;28 -->\n",
       "<g class=\"edge\" id=\"edge28\"><title>27-&gt;28</title>\n",
       "<path d=\"M2511,-400.884C2511,-392.778 2511,-383.982 2511,-375.472\" fill=\"none\" stroke=\"black\"/>\n",
       "<polygon fill=\"black\" points=\"2514.5,-375.299 2511,-365.299 2507.5,-375.299 2514.5,-375.299\" stroke=\"black\"/>\n",
       "</g>\n",
       "<!-- 33 -->\n",
       "<g class=\"node\" id=\"node34\"><title>33</title>\n",
       "<polygon fill=\"none\" points=\"2943,-365 2697,-365 2697,-297 2943,-297 2943,-365\" stroke=\"black\"/>\n",
       "<text font-family=\"Times New Roman,serif\" font-size=\"14.00\" text-anchor=\"middle\" x=\"2820\" y=\"-349.8\">X[3] &lt;= -0.021</text>\n",
       "<text font-family=\"Times New Roman,serif\" font-size=\"14.00\" text-anchor=\"middle\" x=\"2820\" y=\"-334.8\">gini = 0.75</text>\n",
       "<text font-family=\"Times New Roman,serif\" font-size=\"14.00\" text-anchor=\"middle\" x=\"2820\" y=\"-319.8\">samples = 88</text>\n",
       "<text font-family=\"Times New Roman,serif\" font-size=\"14.00\" text-anchor=\"middle\" x=\"2820\" y=\"-304.8\">value = [0, 0, 0, 6, 0, 2, 14, 12, 34, 20, 0]</text>\n",
       "</g>\n",
       "<!-- 27&#45;&gt;33 -->\n",
       "<g class=\"edge\" id=\"edge33\"><title>27-&gt;33</title>\n",
       "<path d=\"M2611.32,-400.884C2642.86,-390.472 2677.85,-378.922 2710.03,-368.301\" fill=\"none\" stroke=\"black\"/>\n",
       "<polygon fill=\"black\" points=\"2711.52,-371.496 2719.92,-365.038 2709.32,-364.849 2711.52,-371.496\" stroke=\"black\"/>\n",
       "</g>\n",
       "<!-- 29 -->\n",
       "<g class=\"node\" id=\"node30\"><title>29</title>\n",
       "<polygon fill=\"none\" points=\"2354.5,-253.5 2135.5,-253.5 2135.5,-200.5 2354.5,-200.5 2354.5,-253.5\" stroke=\"black\"/>\n",
       "<text font-family=\"Times New Roman,serif\" font-size=\"14.00\" text-anchor=\"middle\" x=\"2245\" y=\"-238.3\">gini = 0.727</text>\n",
       "<text font-family=\"Times New Roman,serif\" font-size=\"14.00\" text-anchor=\"middle\" x=\"2245\" y=\"-223.3\">samples = 16</text>\n",
       "<text font-family=\"Times New Roman,serif\" font-size=\"14.00\" text-anchor=\"middle\" x=\"2245\" y=\"-208.3\">value = [0, 0, 0, 0, 4, 4, 1, 0, 0, 1, 6]</text>\n",
       "</g>\n",
       "<!-- 28&#45;&gt;29 -->\n",
       "<g class=\"edge\" id=\"edge29\"><title>28-&gt;29</title>\n",
       "<path d=\"M2424.64,-296.884C2391.22,-284.071 2353.31,-269.534 2320.96,-257.128\" fill=\"none\" stroke=\"black\"/>\n",
       "<polygon fill=\"black\" points=\"2322.14,-253.832 2311.55,-253.52 2319.64,-260.368 2322.14,-253.832\" stroke=\"black\"/>\n",
       "</g>\n",
       "<!-- 30 -->\n",
       "<g class=\"node\" id=\"node31\"><title>30</title>\n",
       "<polygon fill=\"none\" points=\"2591.5,-261 2372.5,-261 2372.5,-193 2591.5,-193 2591.5,-261\" stroke=\"black\"/>\n",
       "<text font-family=\"Times New Roman,serif\" font-size=\"14.00\" text-anchor=\"middle\" x=\"2482\" y=\"-245.8\">X[1] &lt;= 1.34</text>\n",
       "<text font-family=\"Times New Roman,serif\" font-size=\"14.00\" text-anchor=\"middle\" x=\"2482\" y=\"-230.8\">gini = 0.635</text>\n",
       "<text font-family=\"Times New Roman,serif\" font-size=\"14.00\" text-anchor=\"middle\" x=\"2482\" y=\"-215.8\">samples = 21</text>\n",
       "<text font-family=\"Times New Roman,serif\" font-size=\"14.00\" text-anchor=\"middle\" x=\"2482\" y=\"-200.8\">value = [0, 9, 8, 0, 0, 0, 0, 0, 0, 4, 0]</text>\n",
       "</g>\n",
       "<!-- 28&#45;&gt;30 -->\n",
       "<g class=\"edge\" id=\"edge30\"><title>28-&gt;30</title>\n",
       "<path d=\"M2501.58,-296.884C2499.25,-288.689 2496.72,-279.789 2494.28,-271.192\" fill=\"none\" stroke=\"black\"/>\n",
       "<polygon fill=\"black\" points=\"2497.57,-269.961 2491.47,-261.299 2490.84,-271.875 2497.57,-269.961\" stroke=\"black\"/>\n",
       "</g>\n",
       "<!-- 31 -->\n",
       "<g class=\"node\" id=\"node32\"><title>31</title>\n",
       "<polygon fill=\"none\" points=\"2325.5,-149.5 2106.5,-149.5 2106.5,-96.5 2325.5,-96.5 2325.5,-149.5\" stroke=\"black\"/>\n",
       "<text font-family=\"Times New Roman,serif\" font-size=\"14.00\" text-anchor=\"middle\" x=\"2216\" y=\"-134.3\">gini = 0.397</text>\n",
       "<text font-family=\"Times New Roman,serif\" font-size=\"14.00\" text-anchor=\"middle\" x=\"2216\" y=\"-119.3\">samples = 11</text>\n",
       "<text font-family=\"Times New Roman,serif\" font-size=\"14.00\" text-anchor=\"middle\" x=\"2216\" y=\"-104.3\">value = [0, 3, 8, 0, 0, 0, 0, 0, 0, 0, 0]</text>\n",
       "</g>\n",
       "<!-- 30&#45;&gt;31 -->\n",
       "<g class=\"edge\" id=\"edge31\"><title>30-&gt;31</title>\n",
       "<path d=\"M2395.64,-192.884C2362.22,-180.071 2324.31,-165.534 2291.96,-153.128\" fill=\"none\" stroke=\"black\"/>\n",
       "<polygon fill=\"black\" points=\"2293.14,-149.832 2282.55,-149.52 2290.64,-156.368 2293.14,-149.832\" stroke=\"black\"/>\n",
       "</g>\n",
       "<!-- 32 -->\n",
       "<g class=\"node\" id=\"node33\"><title>32</title>\n",
       "<polygon fill=\"none\" points=\"2562.5,-149.5 2343.5,-149.5 2343.5,-96.5 2562.5,-96.5 2562.5,-149.5\" stroke=\"black\"/>\n",
       "<text font-family=\"Times New Roman,serif\" font-size=\"14.00\" text-anchor=\"middle\" x=\"2453\" y=\"-134.3\">gini = 0.48</text>\n",
       "<text font-family=\"Times New Roman,serif\" font-size=\"14.00\" text-anchor=\"middle\" x=\"2453\" y=\"-119.3\">samples = 10</text>\n",
       "<text font-family=\"Times New Roman,serif\" font-size=\"14.00\" text-anchor=\"middle\" x=\"2453\" y=\"-104.3\">value = [0, 6, 0, 0, 0, 0, 0, 0, 0, 4, 0]</text>\n",
       "</g>\n",
       "<!-- 30&#45;&gt;32 -->\n",
       "<g class=\"edge\" id=\"edge32\"><title>30-&gt;32</title>\n",
       "<path d=\"M2472.58,-192.884C2469.52,-182.106 2466.11,-170.108 2463,-159.184\" fill=\"none\" stroke=\"black\"/>\n",
       "<polygon fill=\"black\" points=\"2466.36,-158.182 2460.26,-149.52 2459.62,-160.096 2466.36,-158.182\" stroke=\"black\"/>\n",
       "</g>\n",
       "<!-- 34 -->\n",
       "<g class=\"node\" id=\"node35\"><title>34</title>\n",
       "<polygon fill=\"none\" points=\"2939.5,-261 2700.5,-261 2700.5,-193 2939.5,-193 2939.5,-261\" stroke=\"black\"/>\n",
       "<text font-family=\"Times New Roman,serif\" font-size=\"14.00\" text-anchor=\"middle\" x=\"2820\" y=\"-245.8\">X[0] &lt;= -3.979</text>\n",
       "<text font-family=\"Times New Roman,serif\" font-size=\"14.00\" text-anchor=\"middle\" x=\"2820\" y=\"-230.8\">gini = 0.653</text>\n",
       "<text font-family=\"Times New Roman,serif\" font-size=\"14.00\" text-anchor=\"middle\" x=\"2820\" y=\"-215.8\">samples = 42</text>\n",
       "<text font-family=\"Times New Roman,serif\" font-size=\"14.00\" text-anchor=\"middle\" x=\"2820\" y=\"-200.8\">value = [0, 0, 0, 0, 0, 0, 12, 12, 18, 0, 0]</text>\n",
       "</g>\n",
       "<!-- 33&#45;&gt;34 -->\n",
       "<g class=\"edge\" id=\"edge34\"><title>33-&gt;34</title>\n",
       "<path d=\"M2820,-296.884C2820,-288.778 2820,-279.982 2820,-271.472\" fill=\"none\" stroke=\"black\"/>\n",
       "<polygon fill=\"black\" points=\"2823.5,-271.299 2820,-261.299 2816.5,-271.299 2823.5,-271.299\" stroke=\"black\"/>\n",
       "</g>\n",
       "<!-- 39 -->\n",
       "<g class=\"node\" id=\"node40\"><title>39</title>\n",
       "<polygon fill=\"none\" points=\"3305.5,-261 3072.5,-261 3072.5,-193 3305.5,-193 3305.5,-261\" stroke=\"black\"/>\n",
       "<text font-family=\"Times New Roman,serif\" font-size=\"14.00\" text-anchor=\"middle\" x=\"3189\" y=\"-245.8\">X[7] &lt;= 0.909</text>\n",
       "<text font-family=\"Times New Roman,serif\" font-size=\"14.00\" text-anchor=\"middle\" x=\"3189\" y=\"-230.8\">gini = 0.669</text>\n",
       "<text font-family=\"Times New Roman,serif\" font-size=\"14.00\" text-anchor=\"middle\" x=\"3189\" y=\"-215.8\">samples = 46</text>\n",
       "<text font-family=\"Times New Roman,serif\" font-size=\"14.00\" text-anchor=\"middle\" x=\"3189\" y=\"-200.8\">value = [0, 0, 0, 6, 0, 2, 2, 0, 16, 20, 0]</text>\n",
       "</g>\n",
       "<!-- 33&#45;&gt;39 -->\n",
       "<g class=\"edge\" id=\"edge39\"><title>33-&gt;39</title>\n",
       "<path d=\"M2939.55,-296.954C2978.93,-286.068 3022.83,-273.932 3062.7,-262.912\" fill=\"none\" stroke=\"black\"/>\n",
       "<polygon fill=\"black\" points=\"3063.77,-266.248 3072.47,-260.21 3061.9,-259.501 3063.77,-266.248\" stroke=\"black\"/>\n",
       "</g>\n",
       "<!-- 35 -->\n",
       "<g class=\"node\" id=\"node36\"><title>35</title>\n",
       "<polygon fill=\"none\" points=\"2813.5,-157 2580.5,-157 2580.5,-89 2813.5,-89 2813.5,-157\" stroke=\"black\"/>\n",
       "<text font-family=\"Times New Roman,serif\" font-size=\"14.00\" text-anchor=\"middle\" x=\"2697\" y=\"-141.8\">X[2] &lt;= -0.84</text>\n",
       "<text font-family=\"Times New Roman,serif\" font-size=\"14.00\" text-anchor=\"middle\" x=\"2697\" y=\"-126.8\">gini = 0.512</text>\n",
       "<text font-family=\"Times New Roman,serif\" font-size=\"14.00\" text-anchor=\"middle\" x=\"2697\" y=\"-111.8\">samples = 31</text>\n",
       "<text font-family=\"Times New Roman,serif\" font-size=\"14.00\" text-anchor=\"middle\" x=\"2697\" y=\"-96.8\">value = [0, 0, 0, 0, 0, 0, 1, 12, 18, 0, 0]</text>\n",
       "</g>\n",
       "<!-- 34&#45;&gt;35 -->\n",
       "<g class=\"edge\" id=\"edge35\"><title>34-&gt;35</title>\n",
       "<path d=\"M2780.07,-192.884C2768.89,-183.62 2756.64,-173.455 2745.05,-163.845\" fill=\"none\" stroke=\"black\"/>\n",
       "<polygon fill=\"black\" points=\"2747.09,-160.989 2737.16,-157.299 2742.62,-166.377 2747.09,-160.989\" stroke=\"black\"/>\n",
       "</g>\n",
       "<!-- 38 -->\n",
       "<g class=\"node\" id=\"node39\"><title>38</title>\n",
       "<polygon fill=\"none\" points=\"3058,-149.5 2832,-149.5 2832,-96.5 3058,-96.5 3058,-149.5\" stroke=\"black\"/>\n",
       "<text font-family=\"Times New Roman,serif\" font-size=\"14.00\" text-anchor=\"middle\" x=\"2945\" y=\"-134.3\">gini = 0.0</text>\n",
       "<text font-family=\"Times New Roman,serif\" font-size=\"14.00\" text-anchor=\"middle\" x=\"2945\" y=\"-119.3\">samples = 11</text>\n",
       "<text font-family=\"Times New Roman,serif\" font-size=\"14.00\" text-anchor=\"middle\" x=\"2945\" y=\"-104.3\">value = [0, 0, 0, 0, 0, 0, 11, 0, 0, 0, 0]</text>\n",
       "</g>\n",
       "<!-- 34&#45;&gt;38 -->\n",
       "<g class=\"edge\" id=\"edge38\"><title>34-&gt;38</title>\n",
       "<path d=\"M2860.58,-192.884C2875.14,-181.006 2891.51,-167.646 2905.94,-155.876\" fill=\"none\" stroke=\"black\"/>\n",
       "<polygon fill=\"black\" points=\"2908.19,-158.554 2913.73,-149.52 2903.76,-153.13 2908.19,-158.554\" stroke=\"black\"/>\n",
       "</g>\n",
       "<!-- 36 -->\n",
       "<g class=\"node\" id=\"node37\"><title>36</title>\n",
       "<polygon fill=\"none\" points=\"2688.5,-53 2469.5,-53 2469.5,-0 2688.5,-0 2688.5,-53\" stroke=\"black\"/>\n",
       "<text font-family=\"Times New Roman,serif\" font-size=\"14.00\" text-anchor=\"middle\" x=\"2579\" y=\"-37.8\">gini = 0.314</text>\n",
       "<text font-family=\"Times New Roman,serif\" font-size=\"14.00\" text-anchor=\"middle\" x=\"2579\" y=\"-22.8\">samples = 11</text>\n",
       "<text font-family=\"Times New Roman,serif\" font-size=\"14.00\" text-anchor=\"middle\" x=\"2579\" y=\"-7.8\">value = [0, 0, 0, 0, 0, 0, 1, 9, 1, 0, 0]</text>\n",
       "</g>\n",
       "<!-- 35&#45;&gt;36 -->\n",
       "<g class=\"edge\" id=\"edge36\"><title>35-&gt;36</title>\n",
       "<path d=\"M2655.73,-88.9485C2643.85,-79.4346 2630.91,-69.074 2619.1,-59.6175\" fill=\"none\" stroke=\"black\"/>\n",
       "<polygon fill=\"black\" points=\"2621.13,-56.7558 2611.14,-53.2367 2616.75,-62.2196 2621.13,-56.7558\" stroke=\"black\"/>\n",
       "</g>\n",
       "<!-- 37 -->\n",
       "<g class=\"node\" id=\"node38\"><title>37</title>\n",
       "<polygon fill=\"none\" points=\"2933,-53 2707,-53 2707,-0 2933,-0 2933,-53\" stroke=\"black\"/>\n",
       "<text font-family=\"Times New Roman,serif\" font-size=\"14.00\" text-anchor=\"middle\" x=\"2820\" y=\"-37.8\">gini = 0.255</text>\n",
       "<text font-family=\"Times New Roman,serif\" font-size=\"14.00\" text-anchor=\"middle\" x=\"2820\" y=\"-22.8\">samples = 20</text>\n",
       "<text font-family=\"Times New Roman,serif\" font-size=\"14.00\" text-anchor=\"middle\" x=\"2820\" y=\"-7.8\">value = [0, 0, 0, 0, 0, 0, 0, 3, 17, 0, 0]</text>\n",
       "</g>\n",
       "<!-- 35&#45;&gt;37 -->\n",
       "<g class=\"edge\" id=\"edge37\"><title>35-&gt;37</title>\n",
       "<path d=\"M2740.02,-88.9485C2752.52,-79.3431 2766.15,-68.8747 2778.55,-59.345\" fill=\"none\" stroke=\"black\"/>\n",
       "<polygon fill=\"black\" points=\"2780.7,-62.1046 2786.5,-53.2367 2776.44,-56.5537 2780.7,-62.1046\" stroke=\"black\"/>\n",
       "</g>\n",
       "<!-- 40 -->\n",
       "<g class=\"node\" id=\"node41\"><title>40</title>\n",
       "<polygon fill=\"none\" points=\"3302,-157 3076,-157 3076,-89 3302,-89 3302,-157\" stroke=\"black\"/>\n",
       "<text font-family=\"Times New Roman,serif\" font-size=\"14.00\" text-anchor=\"middle\" x=\"3189\" y=\"-141.8\">X[7] &lt;= 0.629</text>\n",
       "<text font-family=\"Times New Roman,serif\" font-size=\"14.00\" text-anchor=\"middle\" x=\"3189\" y=\"-126.8\">gini = 0.617</text>\n",
       "<text font-family=\"Times New Roman,serif\" font-size=\"14.00\" text-anchor=\"middle\" x=\"3189\" y=\"-111.8\">samples = 35</text>\n",
       "<text font-family=\"Times New Roman,serif\" font-size=\"14.00\" text-anchor=\"middle\" x=\"3189\" y=\"-96.8\">value = [0, 0, 0, 6, 0, 2, 2, 0, 5, 20, 0]</text>\n",
       "</g>\n",
       "<!-- 39&#45;&gt;40 -->\n",
       "<g class=\"edge\" id=\"edge40\"><title>39-&gt;40</title>\n",
       "<path d=\"M3189,-192.884C3189,-184.778 3189,-175.982 3189,-167.472\" fill=\"none\" stroke=\"black\"/>\n",
       "<polygon fill=\"black\" points=\"3192.5,-167.299 3189,-157.299 3185.5,-167.299 3192.5,-167.299\" stroke=\"black\"/>\n",
       "</g>\n",
       "<!-- 43 -->\n",
       "<g class=\"node\" id=\"node44\"><title>43</title>\n",
       "<polygon fill=\"none\" points=\"3546,-149.5 3320,-149.5 3320,-96.5 3546,-96.5 3546,-149.5\" stroke=\"black\"/>\n",
       "<text font-family=\"Times New Roman,serif\" font-size=\"14.00\" text-anchor=\"middle\" x=\"3433\" y=\"-134.3\">gini = 0.0</text>\n",
       "<text font-family=\"Times New Roman,serif\" font-size=\"14.00\" text-anchor=\"middle\" x=\"3433\" y=\"-119.3\">samples = 11</text>\n",
       "<text font-family=\"Times New Roman,serif\" font-size=\"14.00\" text-anchor=\"middle\" x=\"3433\" y=\"-104.3\">value = [0, 0, 0, 0, 0, 0, 0, 0, 11, 0, 0]</text>\n",
       "</g>\n",
       "<!-- 39&#45;&gt;43 -->\n",
       "<g class=\"edge\" id=\"edge43\"><title>39-&gt;43</title>\n",
       "<path d=\"M3268.22,-192.884C3298.61,-180.181 3333.05,-165.784 3362.56,-153.448\" fill=\"none\" stroke=\"black\"/>\n",
       "<polygon fill=\"black\" points=\"3364.08,-156.606 3371.95,-149.52 3361.38,-150.148 3364.08,-156.606\" stroke=\"black\"/>\n",
       "</g>\n",
       "<!-- 41 -->\n",
       "<g class=\"node\" id=\"node42\"><title>41</title>\n",
       "<polygon fill=\"none\" points=\"3175.5,-53 2956.5,-53 2956.5,-0 3175.5,-0 3175.5,-53\" stroke=\"black\"/>\n",
       "<text font-family=\"Times New Roman,serif\" font-size=\"14.00\" text-anchor=\"middle\" x=\"3066\" y=\"-37.8\">gini = 0.765</text>\n",
       "<text font-family=\"Times New Roman,serif\" font-size=\"14.00\" text-anchor=\"middle\" x=\"3066\" y=\"-22.8\">samples = 19</text>\n",
       "<text font-family=\"Times New Roman,serif\" font-size=\"14.00\" text-anchor=\"middle\" x=\"3066\" y=\"-7.8\">value = [0, 0, 0, 6, 0, 2, 2, 0, 5, 4, 0]</text>\n",
       "</g>\n",
       "<!-- 40&#45;&gt;41 -->\n",
       "<g class=\"edge\" id=\"edge41\"><title>40-&gt;41</title>\n",
       "<path d=\"M3145.98,-88.9485C3133.48,-79.3431 3119.85,-68.8747 3107.45,-59.345\" fill=\"none\" stroke=\"black\"/>\n",
       "<polygon fill=\"black\" points=\"3109.56,-56.5537 3099.5,-53.2367 3105.3,-62.1046 3109.56,-56.5537\" stroke=\"black\"/>\n",
       "</g>\n",
       "<!-- 42 -->\n",
       "<g class=\"node\" id=\"node43\"><title>42</title>\n",
       "<polygon fill=\"none\" points=\"3420,-53 3194,-53 3194,-0 3420,-0 3420,-53\" stroke=\"black\"/>\n",
       "<text font-family=\"Times New Roman,serif\" font-size=\"14.00\" text-anchor=\"middle\" x=\"3307\" y=\"-37.8\">gini = 0.0</text>\n",
       "<text font-family=\"Times New Roman,serif\" font-size=\"14.00\" text-anchor=\"middle\" x=\"3307\" y=\"-22.8\">samples = 16</text>\n",
       "<text font-family=\"Times New Roman,serif\" font-size=\"14.00\" text-anchor=\"middle\" x=\"3307\" y=\"-7.8\">value = [0, 0, 0, 0, 0, 0, 0, 0, 0, 16, 0]</text>\n",
       "</g>\n",
       "<!-- 40&#45;&gt;42 -->\n",
       "<g class=\"edge\" id=\"edge42\"><title>40-&gt;42</title>\n",
       "<path d=\"M3230.27,-88.9485C3242.15,-79.4346 3255.09,-69.074 3266.9,-59.6175\" fill=\"none\" stroke=\"black\"/>\n",
       "<polygon fill=\"black\" points=\"3269.25,-62.2196 3274.86,-53.2367 3264.87,-56.7558 3269.25,-62.2196\" stroke=\"black\"/>\n",
       "</g>\n",
       "<!-- 45 -->\n",
       "<g class=\"node\" id=\"node46\"><title>45</title>\n",
       "<polygon fill=\"none\" points=\"4403,-573 4157,-573 4157,-505 4403,-505 4403,-573\" stroke=\"black\"/>\n",
       "<text font-family=\"Times New Roman,serif\" font-size=\"14.00\" text-anchor=\"middle\" x=\"4280\" y=\"-557.8\">X[1] &lt;= 2.04</text>\n",
       "<text font-family=\"Times New Roman,serif\" font-size=\"14.00\" text-anchor=\"middle\" x=\"4280\" y=\"-542.8\">gini = 0.781</text>\n",
       "<text font-family=\"Times New Roman,serif\" font-size=\"14.00\" text-anchor=\"middle\" x=\"4280\" y=\"-527.8\">samples = 152</text>\n",
       "<text font-family=\"Times New Roman,serif\" font-size=\"14.00\" text-anchor=\"middle\" x=\"4280\" y=\"-512.8\">value = [0, 0, 7, 7, 39, 35, 21, 0, 1, 0, 42]</text>\n",
       "</g>\n",
       "<!-- 44&#45;&gt;45 -->\n",
       "<g class=\"edge\" id=\"edge45\"><title>44-&gt;45</title>\n",
       "<path d=\"M4280,-608.884C4280,-600.778 4280,-591.982 4280,-583.472\" fill=\"none\" stroke=\"black\"/>\n",
       "<polygon fill=\"black\" points=\"4283.5,-583.299 4280,-573.299 4276.5,-583.299 4283.5,-583.299\" stroke=\"black\"/>\n",
       "</g>\n",
       "<!-- 64 -->\n",
       "<g class=\"node\" id=\"node65\"><title>64</title>\n",
       "<polygon fill=\"none\" points=\"5119.5,-573 4886.5,-573 4886.5,-505 5119.5,-505 5119.5,-573\" stroke=\"black\"/>\n",
       "<text font-family=\"Times New Roman,serif\" font-size=\"14.00\" text-anchor=\"middle\" x=\"5003\" y=\"-557.8\">X[1] &lt;= 1.098</text>\n",
       "<text font-family=\"Times New Roman,serif\" font-size=\"14.00\" text-anchor=\"middle\" x=\"5003\" y=\"-542.8\">gini = 0.624</text>\n",
       "<text font-family=\"Times New Roman,serif\" font-size=\"14.00\" text-anchor=\"middle\" x=\"5003\" y=\"-527.8\">samples = 68</text>\n",
       "<text font-family=\"Times New Roman,serif\" font-size=\"14.00\" text-anchor=\"middle\" x=\"5003\" y=\"-512.8\">value = [0, 0, 21, 35, 5, 7, 0, 0, 0, 0, 0]</text>\n",
       "</g>\n",
       "<!-- 44&#45;&gt;64 -->\n",
       "<g class=\"edge\" id=\"edge64\"><title>44-&gt;64</title>\n",
       "<path d=\"M4410.09,-623.647C4542.24,-605.004 4745.55,-576.321 4876.42,-557.858\" fill=\"none\" stroke=\"black\"/>\n",
       "<polygon fill=\"black\" points=\"4877.08,-561.299 4886.49,-556.437 4876.1,-554.368 4877.08,-561.299\" stroke=\"black\"/>\n",
       "</g>\n",
       "<!-- 46 -->\n",
       "<g class=\"node\" id=\"node47\"><title>46</title>\n",
       "<polygon fill=\"none\" points=\"4271.5,-469 4038.5,-469 4038.5,-401 4271.5,-401 4271.5,-469\" stroke=\"black\"/>\n",
       "<text font-family=\"Times New Roman,serif\" font-size=\"14.00\" text-anchor=\"middle\" x=\"4155\" y=\"-453.8\">X[3] &lt;= 1.302</text>\n",
       "<text font-family=\"Times New Roman,serif\" font-size=\"14.00\" text-anchor=\"middle\" x=\"4155\" y=\"-438.8\">gini = 0.72</text>\n",
       "<text font-family=\"Times New Roman,serif\" font-size=\"14.00\" text-anchor=\"middle\" x=\"4155\" y=\"-423.8\">samples = 97</text>\n",
       "<text font-family=\"Times New Roman,serif\" font-size=\"14.00\" text-anchor=\"middle\" x=\"4155\" y=\"-408.8\">value = [0, 0, 7, 7, 7, 26, 7, 0, 1, 0, 42]</text>\n",
       "</g>\n",
       "<!-- 45&#45;&gt;46 -->\n",
       "<g class=\"edge\" id=\"edge46\"><title>45-&gt;46</title>\n",
       "<path d=\"M4239.42,-504.884C4228.06,-495.62 4215.61,-485.455 4203.83,-475.845\" fill=\"none\" stroke=\"black\"/>\n",
       "<polygon fill=\"black\" points=\"4205.77,-472.91 4195.81,-469.299 4201.34,-478.333 4205.77,-472.91\" stroke=\"black\"/>\n",
       "</g>\n",
       "<!-- 57 -->\n",
       "<g class=\"node\" id=\"node58\"><title>57</title>\n",
       "<polygon fill=\"none\" points=\"4522.5,-469 4289.5,-469 4289.5,-401 4522.5,-401 4522.5,-469\" stroke=\"black\"/>\n",
       "<text font-family=\"Times New Roman,serif\" font-size=\"14.00\" text-anchor=\"middle\" x=\"4406\" y=\"-453.8\">X[0] &lt;= -3.008</text>\n",
       "<text font-family=\"Times New Roman,serif\" font-size=\"14.00\" text-anchor=\"middle\" x=\"4406\" y=\"-438.8\">gini = 0.57</text>\n",
       "<text font-family=\"Times New Roman,serif\" font-size=\"14.00\" text-anchor=\"middle\" x=\"4406\" y=\"-423.8\">samples = 55</text>\n",
       "<text font-family=\"Times New Roman,serif\" font-size=\"14.00\" text-anchor=\"middle\" x=\"4406\" y=\"-408.8\">value = [0, 0, 0, 0, 32, 9, 14, 0, 0, 0, 0]</text>\n",
       "</g>\n",
       "<!-- 45&#45;&gt;57 -->\n",
       "<g class=\"edge\" id=\"edge57\"><title>45-&gt;57</title>\n",
       "<path d=\"M4320.91,-504.884C4332.35,-495.62 4344.91,-485.455 4356.78,-475.845\" fill=\"none\" stroke=\"black\"/>\n",
       "<polygon fill=\"black\" points=\"4359.3,-478.312 4364.87,-469.299 4354.89,-472.871 4359.3,-478.312\" stroke=\"black\"/>\n",
       "</g>\n",
       "<!-- 47 -->\n",
       "<g class=\"node\" id=\"node48\"><title>47</title>\n",
       "<polygon fill=\"none\" points=\"4033.5,-365 3800.5,-365 3800.5,-297 4033.5,-297 4033.5,-365\" stroke=\"black\"/>\n",
       "<text font-family=\"Times New Roman,serif\" font-size=\"14.00\" text-anchor=\"middle\" x=\"3917\" y=\"-349.8\">X[0] &lt;= -2.594</text>\n",
       "<text font-family=\"Times New Roman,serif\" font-size=\"14.00\" text-anchor=\"middle\" x=\"3917\" y=\"-334.8\">gini = 0.635</text>\n",
       "<text font-family=\"Times New Roman,serif\" font-size=\"14.00\" text-anchor=\"middle\" x=\"3917\" y=\"-319.8\">samples = 78</text>\n",
       "<text font-family=\"Times New Roman,serif\" font-size=\"14.00\" text-anchor=\"middle\" x=\"3917\" y=\"-304.8\">value = [0, 0, 0, 7, 7, 26, 0, 0, 0, 0, 38]</text>\n",
       "</g>\n",
       "<!-- 46&#45;&gt;47 -->\n",
       "<g class=\"edge\" id=\"edge47\"><title>46-&gt;47</title>\n",
       "<path d=\"M4077.73,-400.884C4054.02,-390.722 4027.78,-379.476 4003.49,-369.069\" fill=\"none\" stroke=\"black\"/>\n",
       "<polygon fill=\"black\" points=\"4004.86,-365.847 3994.29,-365.125 4002.1,-372.281 4004.86,-365.847\" stroke=\"black\"/>\n",
       "</g>\n",
       "<!-- 56 -->\n",
       "<g class=\"node\" id=\"node57\"><title>56</title>\n",
       "<polygon fill=\"none\" points=\"4270.5,-357.5 4051.5,-357.5 4051.5,-304.5 4270.5,-304.5 4270.5,-357.5\" stroke=\"black\"/>\n",
       "<text font-family=\"Times New Roman,serif\" font-size=\"14.00\" text-anchor=\"middle\" x=\"4161\" y=\"-342.3\">gini = 0.681</text>\n",
       "<text font-family=\"Times New Roman,serif\" font-size=\"14.00\" text-anchor=\"middle\" x=\"4161\" y=\"-327.3\">samples = 19</text>\n",
       "<text font-family=\"Times New Roman,serif\" font-size=\"14.00\" text-anchor=\"middle\" x=\"4161\" y=\"-312.3\">value = [0, 0, 7, 0, 0, 0, 7, 0, 1, 0, 4]</text>\n",
       "</g>\n",
       "<!-- 46&#45;&gt;56 -->\n",
       "<g class=\"edge\" id=\"edge56\"><title>46-&gt;56</title>\n",
       "<path d=\"M4156.95,-400.884C4157.58,-390.216 4158.27,-378.352 4158.91,-367.519\" fill=\"none\" stroke=\"black\"/>\n",
       "<polygon fill=\"black\" points=\"4162.41,-367.708 4159.5,-357.52 4155.42,-367.297 4162.41,-367.708\" stroke=\"black\"/>\n",
       "</g>\n",
       "<!-- 48 -->\n",
       "<g class=\"node\" id=\"node49\"><title>48</title>\n",
       "<polygon fill=\"none\" points=\"4028,-261 3802,-261 3802,-193 4028,-193 4028,-261\" stroke=\"black\"/>\n",
       "<text font-family=\"Times New Roman,serif\" font-size=\"14.00\" text-anchor=\"middle\" x=\"3915\" y=\"-245.8\">X[7] &lt;= -0.149</text>\n",
       "<text font-family=\"Times New Roman,serif\" font-size=\"14.00\" text-anchor=\"middle\" x=\"3915\" y=\"-230.8\">gini = 0.51</text>\n",
       "<text font-family=\"Times New Roman,serif\" font-size=\"14.00\" text-anchor=\"middle\" x=\"3915\" y=\"-215.8\">samples = 48</text>\n",
       "<text font-family=\"Times New Roman,serif\" font-size=\"14.00\" text-anchor=\"middle\" x=\"3915\" y=\"-200.8\">value = [0, 0, 0, 4, 3, 9, 0, 0, 0, 0, 32]</text>\n",
       "</g>\n",
       "<!-- 47&#45;&gt;48 -->\n",
       "<g class=\"edge\" id=\"edge48\"><title>47-&gt;48</title>\n",
       "<path d=\"M3916.35,-296.884C3916.19,-288.778 3916.02,-279.982 3915.85,-271.472\" fill=\"none\" stroke=\"black\"/>\n",
       "<polygon fill=\"black\" points=\"3919.35,-271.229 3915.65,-261.299 3912.35,-271.366 3919.35,-271.229\" stroke=\"black\"/>\n",
       "</g>\n",
       "<!-- 53 -->\n",
       "<g class=\"node\" id=\"node54\"><title>53</title>\n",
       "<polygon fill=\"none\" points=\"4272,-261 4046,-261 4046,-193 4272,-193 4272,-261\" stroke=\"black\"/>\n",
       "<text font-family=\"Times New Roman,serif\" font-size=\"14.00\" text-anchor=\"middle\" x=\"4159\" y=\"-245.8\">X[7] &lt;= 0.612</text>\n",
       "<text font-family=\"Times New Roman,serif\" font-size=\"14.00\" text-anchor=\"middle\" x=\"4159\" y=\"-230.8\">gini = 0.611</text>\n",
       "<text font-family=\"Times New Roman,serif\" font-size=\"14.00\" text-anchor=\"middle\" x=\"4159\" y=\"-215.8\">samples = 30</text>\n",
       "<text font-family=\"Times New Roman,serif\" font-size=\"14.00\" text-anchor=\"middle\" x=\"4159\" y=\"-200.8\">value = [0, 0, 0, 3, 4, 17, 0, 0, 0, 0, 6]</text>\n",
       "</g>\n",
       "<!-- 47&#45;&gt;53 -->\n",
       "<g class=\"edge\" id=\"edge53\"><title>47-&gt;53</title>\n",
       "<path d=\"M3995.57,-296.884C4019.68,-286.722 4046.36,-275.476 4071.05,-265.069\" fill=\"none\" stroke=\"black\"/>\n",
       "<polygon fill=\"black\" points=\"4072.55,-268.234 4080.41,-261.125 4069.84,-261.784 4072.55,-268.234\" stroke=\"black\"/>\n",
       "</g>\n",
       "<!-- 49 -->\n",
       "<g class=\"node\" id=\"node50\"><title>49</title>\n",
       "<polygon fill=\"none\" points=\"3783.5,-149.5 3564.5,-149.5 3564.5,-96.5 3783.5,-96.5 3783.5,-149.5\" stroke=\"black\"/>\n",
       "<text font-family=\"Times New Roman,serif\" font-size=\"14.00\" text-anchor=\"middle\" x=\"3674\" y=\"-134.3\">gini = 0.66</text>\n",
       "<text font-family=\"Times New Roman,serif\" font-size=\"14.00\" text-anchor=\"middle\" x=\"3674\" y=\"-119.3\">samples = 10</text>\n",
       "<text font-family=\"Times New Roman,serif\" font-size=\"14.00\" text-anchor=\"middle\" x=\"3674\" y=\"-104.3\">value = [0, 0, 0, 4, 1, 4, 0, 0, 0, 0, 1]</text>\n",
       "</g>\n",
       "<!-- 48&#45;&gt;49 -->\n",
       "<g class=\"edge\" id=\"edge49\"><title>48-&gt;49</title>\n",
       "<path d=\"M3836.75,-192.884C3806.74,-180.181 3772.72,-165.784 3743.58,-153.448\" fill=\"none\" stroke=\"black\"/>\n",
       "<polygon fill=\"black\" points=\"3744.87,-150.194 3734.3,-149.52 3742.14,-156.641 3744.87,-150.194\" stroke=\"black\"/>\n",
       "</g>\n",
       "<!-- 50 -->\n",
       "<g class=\"node\" id=\"node51\"><title>50</title>\n",
       "<polygon fill=\"none\" points=\"4028,-157 3802,-157 3802,-89 4028,-89 4028,-157\" stroke=\"black\"/>\n",
       "<text font-family=\"Times New Roman,serif\" font-size=\"14.00\" text-anchor=\"middle\" x=\"3915\" y=\"-141.8\">X[2] &lt;= -0.417</text>\n",
       "<text font-family=\"Times New Roman,serif\" font-size=\"14.00\" text-anchor=\"middle\" x=\"3915\" y=\"-126.8\">gini = 0.314</text>\n",
       "<text font-family=\"Times New Roman,serif\" font-size=\"14.00\" text-anchor=\"middle\" x=\"3915\" y=\"-111.8\">samples = 38</text>\n",
       "<text font-family=\"Times New Roman,serif\" font-size=\"14.00\" text-anchor=\"middle\" x=\"3915\" y=\"-96.8\">value = [0, 0, 0, 0, 2, 5, 0, 0, 0, 0, 31]</text>\n",
       "</g>\n",
       "<!-- 48&#45;&gt;50 -->\n",
       "<g class=\"edge\" id=\"edge50\"><title>48-&gt;50</title>\n",
       "<path d=\"M3915,-192.884C3915,-184.778 3915,-175.982 3915,-167.472\" fill=\"none\" stroke=\"black\"/>\n",
       "<polygon fill=\"black\" points=\"3918.5,-167.299 3915,-157.299 3911.5,-167.299 3918.5,-167.299\" stroke=\"black\"/>\n",
       "</g>\n",
       "<!-- 51 -->\n",
       "<g class=\"node\" id=\"node52\"><title>51</title>\n",
       "<polygon fill=\"none\" points=\"3906,-53 3680,-53 3680,-0 3906,-0 3906,-53\" stroke=\"black\"/>\n",
       "<text font-family=\"Times New Roman,serif\" font-size=\"14.00\" text-anchor=\"middle\" x=\"3793\" y=\"-37.8\">gini = 0.461</text>\n",
       "<text font-family=\"Times New Roman,serif\" font-size=\"14.00\" text-anchor=\"middle\" x=\"3793\" y=\"-22.8\">samples = 23</text>\n",
       "<text font-family=\"Times New Roman,serif\" font-size=\"14.00\" text-anchor=\"middle\" x=\"3793\" y=\"-7.8\">value = [0, 0, 0, 0, 2, 5, 0, 0, 0, 0, 16]</text>\n",
       "</g>\n",
       "<!-- 50&#45;&gt;51 -->\n",
       "<g class=\"edge\" id=\"edge51\"><title>50-&gt;51</title>\n",
       "<path d=\"M3872.33,-88.9485C3860.05,-79.4346 3846.67,-69.074 3834.46,-59.6175\" fill=\"none\" stroke=\"black\"/>\n",
       "<polygon fill=\"black\" points=\"3836.28,-56.5934 3826.23,-53.2367 3831.99,-62.1274 3836.28,-56.5934\" stroke=\"black\"/>\n",
       "</g>\n",
       "<!-- 52 -->\n",
       "<g class=\"node\" id=\"node53\"><title>52</title>\n",
       "<polygon fill=\"none\" points=\"4150,-53 3924,-53 3924,-0 4150,-0 4150,-53\" stroke=\"black\"/>\n",
       "<text font-family=\"Times New Roman,serif\" font-size=\"14.00\" text-anchor=\"middle\" x=\"4037\" y=\"-37.8\">gini = 0.0</text>\n",
       "<text font-family=\"Times New Roman,serif\" font-size=\"14.00\" text-anchor=\"middle\" x=\"4037\" y=\"-22.8\">samples = 15</text>\n",
       "<text font-family=\"Times New Roman,serif\" font-size=\"14.00\" text-anchor=\"middle\" x=\"4037\" y=\"-7.8\">value = [0, 0, 0, 0, 0, 0, 0, 0, 0, 0, 15]</text>\n",
       "</g>\n",
       "<!-- 50&#45;&gt;52 -->\n",
       "<g class=\"edge\" id=\"edge52\"><title>50-&gt;52</title>\n",
       "<path d=\"M3957.67,-88.9485C3969.95,-79.4346 3983.33,-69.074 3995.54,-59.6175\" fill=\"none\" stroke=\"black\"/>\n",
       "<polygon fill=\"black\" points=\"3998.01,-62.1274 4003.77,-53.2367 3993.72,-56.5934 3998.01,-62.1274\" stroke=\"black\"/>\n",
       "</g>\n",
       "<!-- 54 -->\n",
       "<g class=\"node\" id=\"node55\"><title>54</title>\n",
       "<polygon fill=\"none\" points=\"4272,-149.5 4046,-149.5 4046,-96.5 4272,-96.5 4272,-149.5\" stroke=\"black\"/>\n",
       "<text font-family=\"Times New Roman,serif\" font-size=\"14.00\" text-anchor=\"middle\" x=\"4159\" y=\"-134.3\">gini = 0.291</text>\n",
       "<text font-family=\"Times New Roman,serif\" font-size=\"14.00\" text-anchor=\"middle\" x=\"4159\" y=\"-119.3\">samples = 17</text>\n",
       "<text font-family=\"Times New Roman,serif\" font-size=\"14.00\" text-anchor=\"middle\" x=\"4159\" y=\"-104.3\">value = [0, 0, 0, 3, 0, 14, 0, 0, 0, 0, 0]</text>\n",
       "</g>\n",
       "<!-- 53&#45;&gt;54 -->\n",
       "<g class=\"edge\" id=\"edge54\"><title>53-&gt;54</title>\n",
       "<path d=\"M4159,-192.884C4159,-182.326 4159,-170.597 4159,-159.854\" fill=\"none\" stroke=\"black\"/>\n",
       "<polygon fill=\"black\" points=\"4162.5,-159.52 4159,-149.52 4155.5,-159.52 4162.5,-159.52\" stroke=\"black\"/>\n",
       "</g>\n",
       "<!-- 55 -->\n",
       "<g class=\"node\" id=\"node56\"><title>55</title>\n",
       "<polygon fill=\"none\" points=\"4509.5,-149.5 4290.5,-149.5 4290.5,-96.5 4509.5,-96.5 4509.5,-149.5\" stroke=\"black\"/>\n",
       "<text font-family=\"Times New Roman,serif\" font-size=\"14.00\" text-anchor=\"middle\" x=\"4400\" y=\"-134.3\">gini = 0.639</text>\n",
       "<text font-family=\"Times New Roman,serif\" font-size=\"14.00\" text-anchor=\"middle\" x=\"4400\" y=\"-119.3\">samples = 13</text>\n",
       "<text font-family=\"Times New Roman,serif\" font-size=\"14.00\" text-anchor=\"middle\" x=\"4400\" y=\"-104.3\">value = [0, 0, 0, 0, 4, 3, 0, 0, 0, 0, 6]</text>\n",
       "</g>\n",
       "<!-- 53&#45;&gt;55 -->\n",
       "<g class=\"edge\" id=\"edge55\"><title>53-&gt;55</title>\n",
       "<path d=\"M4237.25,-192.884C4267.26,-180.181 4301.28,-165.784 4330.42,-153.448\" fill=\"none\" stroke=\"black\"/>\n",
       "<polygon fill=\"black\" points=\"4331.86,-156.641 4339.7,-149.52 4329.13,-150.194 4331.86,-156.641\" stroke=\"black\"/>\n",
       "</g>\n",
       "<!-- 58 -->\n",
       "<g class=\"node\" id=\"node59\"><title>58</title>\n",
       "<polygon fill=\"none\" points=\"4509.5,-357.5 4290.5,-357.5 4290.5,-304.5 4509.5,-304.5 4509.5,-357.5\" stroke=\"black\"/>\n",
       "<text font-family=\"Times New Roman,serif\" font-size=\"14.00\" text-anchor=\"middle\" x=\"4400\" y=\"-342.3\">gini = 0.397</text>\n",
       "<text font-family=\"Times New Roman,serif\" font-size=\"14.00\" text-anchor=\"middle\" x=\"4400\" y=\"-327.3\">samples = 11</text>\n",
       "<text font-family=\"Times New Roman,serif\" font-size=\"14.00\" text-anchor=\"middle\" x=\"4400\" y=\"-312.3\">value = [0, 0, 0, 0, 0, 3, 8, 0, 0, 0, 0]</text>\n",
       "</g>\n",
       "<!-- 57&#45;&gt;58 -->\n",
       "<g class=\"edge\" id=\"edge58\"><title>57-&gt;58</title>\n",
       "<path d=\"M4404.05,-400.884C4403.42,-390.216 4402.73,-378.352 4402.09,-367.519\" fill=\"none\" stroke=\"black\"/>\n",
       "<polygon fill=\"black\" points=\"4405.58,-367.297 4401.5,-357.52 4398.59,-367.708 4405.58,-367.297\" stroke=\"black\"/>\n",
       "</g>\n",
       "<!-- 59 -->\n",
       "<g class=\"node\" id=\"node60\"><title>59</title>\n",
       "<polygon fill=\"none\" points=\"4754,-365 4528,-365 4528,-297 4754,-297 4754,-365\" stroke=\"black\"/>\n",
       "<text font-family=\"Times New Roman,serif\" font-size=\"14.00\" text-anchor=\"middle\" x=\"4641\" y=\"-349.8\">X[3] &lt;= 0.078</text>\n",
       "<text font-family=\"Times New Roman,serif\" font-size=\"14.00\" text-anchor=\"middle\" x=\"4641\" y=\"-334.8\">gini = 0.434</text>\n",
       "<text font-family=\"Times New Roman,serif\" font-size=\"14.00\" text-anchor=\"middle\" x=\"4641\" y=\"-319.8\">samples = 44</text>\n",
       "<text font-family=\"Times New Roman,serif\" font-size=\"14.00\" text-anchor=\"middle\" x=\"4641\" y=\"-304.8\">value = [0, 0, 0, 0, 32, 6, 6, 0, 0, 0, 0]</text>\n",
       "</g>\n",
       "<!-- 57&#45;&gt;59 -->\n",
       "<g class=\"edge\" id=\"edge59\"><title>57-&gt;59</title>\n",
       "<path d=\"M4482.3,-400.884C4505.61,-390.767 4531.39,-379.575 4555.28,-369.206\" fill=\"none\" stroke=\"black\"/>\n",
       "<polygon fill=\"black\" points=\"4556.9,-372.317 4564.68,-365.125 4554.12,-365.896 4556.9,-372.317\" stroke=\"black\"/>\n",
       "</g>\n",
       "<!-- 60 -->\n",
       "<g class=\"node\" id=\"node61\"><title>60</title>\n",
       "<polygon fill=\"none\" points=\"4754,-261 4528,-261 4528,-193 4754,-193 4754,-261\" stroke=\"black\"/>\n",
       "<text font-family=\"Times New Roman,serif\" font-size=\"14.00\" text-anchor=\"middle\" x=\"4641\" y=\"-245.8\">X[1] &lt;= 2.737</text>\n",
       "<text font-family=\"Times New Roman,serif\" font-size=\"14.00\" text-anchor=\"middle\" x=\"4641\" y=\"-230.8\">gini = 0.133</text>\n",
       "<text font-family=\"Times New Roman,serif\" font-size=\"14.00\" text-anchor=\"middle\" x=\"4641\" y=\"-215.8\">samples = 28</text>\n",
       "<text font-family=\"Times New Roman,serif\" font-size=\"14.00\" text-anchor=\"middle\" x=\"4641\" y=\"-200.8\">value = [0, 0, 0, 0, 26, 2, 0, 0, 0, 0, 0]</text>\n",
       "</g>\n",
       "<!-- 59&#45;&gt;60 -->\n",
       "<g class=\"edge\" id=\"edge60\"><title>59-&gt;60</title>\n",
       "<path d=\"M4641,-296.884C4641,-288.778 4641,-279.982 4641,-271.472\" fill=\"none\" stroke=\"black\"/>\n",
       "<polygon fill=\"black\" points=\"4644.5,-271.299 4641,-261.299 4637.5,-271.299 4644.5,-271.299\" stroke=\"black\"/>\n",
       "</g>\n",
       "<!-- 63 -->\n",
       "<g class=\"node\" id=\"node64\"><title>63</title>\n",
       "<polygon fill=\"none\" points=\"4991.5,-253.5 4772.5,-253.5 4772.5,-200.5 4991.5,-200.5 4991.5,-253.5\" stroke=\"black\"/>\n",
       "<text font-family=\"Times New Roman,serif\" font-size=\"14.00\" text-anchor=\"middle\" x=\"4882\" y=\"-238.3\">gini = 0.656</text>\n",
       "<text font-family=\"Times New Roman,serif\" font-size=\"14.00\" text-anchor=\"middle\" x=\"4882\" y=\"-223.3\">samples = 16</text>\n",
       "<text font-family=\"Times New Roman,serif\" font-size=\"14.00\" text-anchor=\"middle\" x=\"4882\" y=\"-208.3\">value = [0, 0, 0, 0, 6, 4, 6, 0, 0, 0, 0]</text>\n",
       "</g>\n",
       "<!-- 59&#45;&gt;63 -->\n",
       "<g class=\"edge\" id=\"edge63\"><title>59-&gt;63</title>\n",
       "<path d=\"M4719.25,-296.884C4749.26,-284.181 4783.28,-269.784 4812.42,-257.448\" fill=\"none\" stroke=\"black\"/>\n",
       "<polygon fill=\"black\" points=\"4813.86,-260.641 4821.7,-253.52 4811.13,-254.194 4813.86,-260.641\" stroke=\"black\"/>\n",
       "</g>\n",
       "<!-- 61 -->\n",
       "<g class=\"node\" id=\"node62\"><title>61</title>\n",
       "<polygon fill=\"none\" points=\"4754,-149.5 4528,-149.5 4528,-96.5 4754,-96.5 4754,-149.5\" stroke=\"black\"/>\n",
       "<text font-family=\"Times New Roman,serif\" font-size=\"14.00\" text-anchor=\"middle\" x=\"4641\" y=\"-134.3\">gini = 0.0</text>\n",
       "<text font-family=\"Times New Roman,serif\" font-size=\"14.00\" text-anchor=\"middle\" x=\"4641\" y=\"-119.3\">samples = 18</text>\n",
       "<text font-family=\"Times New Roman,serif\" font-size=\"14.00\" text-anchor=\"middle\" x=\"4641\" y=\"-104.3\">value = [0, 0, 0, 0, 18, 0, 0, 0, 0, 0, 0]</text>\n",
       "</g>\n",
       "<!-- 60&#45;&gt;61 -->\n",
       "<g class=\"edge\" id=\"edge61\"><title>60-&gt;61</title>\n",
       "<path d=\"M4641,-192.884C4641,-182.326 4641,-170.597 4641,-159.854\" fill=\"none\" stroke=\"black\"/>\n",
       "<polygon fill=\"black\" points=\"4644.5,-159.52 4641,-149.52 4637.5,-159.52 4644.5,-159.52\" stroke=\"black\"/>\n",
       "</g>\n",
       "<!-- 62 -->\n",
       "<g class=\"node\" id=\"node63\"><title>62</title>\n",
       "<polygon fill=\"none\" points=\"4991.5,-149.5 4772.5,-149.5 4772.5,-96.5 4991.5,-96.5 4991.5,-149.5\" stroke=\"black\"/>\n",
       "<text font-family=\"Times New Roman,serif\" font-size=\"14.00\" text-anchor=\"middle\" x=\"4882\" y=\"-134.3\">gini = 0.32</text>\n",
       "<text font-family=\"Times New Roman,serif\" font-size=\"14.00\" text-anchor=\"middle\" x=\"4882\" y=\"-119.3\">samples = 10</text>\n",
       "<text font-family=\"Times New Roman,serif\" font-size=\"14.00\" text-anchor=\"middle\" x=\"4882\" y=\"-104.3\">value = [0, 0, 0, 0, 8, 2, 0, 0, 0, 0, 0]</text>\n",
       "</g>\n",
       "<!-- 60&#45;&gt;62 -->\n",
       "<g class=\"edge\" id=\"edge62\"><title>60-&gt;62</title>\n",
       "<path d=\"M4719.25,-192.884C4749.26,-180.181 4783.28,-165.784 4812.42,-153.448\" fill=\"none\" stroke=\"black\"/>\n",
       "<polygon fill=\"black\" points=\"4813.86,-156.641 4821.7,-149.52 4811.13,-150.194 4813.86,-156.641\" stroke=\"black\"/>\n",
       "</g>\n",
       "<!-- 65 -->\n",
       "<g class=\"node\" id=\"node66\"><title>65</title>\n",
       "<polygon fill=\"none\" points=\"5116,-469 4890,-469 4890,-401 5116,-401 5116,-469\" stroke=\"black\"/>\n",
       "<text font-family=\"Times New Roman,serif\" font-size=\"14.00\" text-anchor=\"middle\" x=\"5003\" y=\"-453.8\">X[5] &lt;= 0.409</text>\n",
       "<text font-family=\"Times New Roman,serif\" font-size=\"14.00\" text-anchor=\"middle\" x=\"5003\" y=\"-438.8\">gini = 0.346</text>\n",
       "<text font-family=\"Times New Roman,serif\" font-size=\"14.00\" text-anchor=\"middle\" x=\"5003\" y=\"-423.8\">samples = 27</text>\n",
       "<text font-family=\"Times New Roman,serif\" font-size=\"14.00\" text-anchor=\"middle\" x=\"5003\" y=\"-408.8\">value = [0, 0, 21, 6, 0, 0, 0, 0, 0, 0, 0]</text>\n",
       "</g>\n",
       "<!-- 64&#45;&gt;65 -->\n",
       "<g class=\"edge\" id=\"edge65\"><title>64-&gt;65</title>\n",
       "<path d=\"M5003,-504.884C5003,-496.778 5003,-487.982 5003,-479.472\" fill=\"none\" stroke=\"black\"/>\n",
       "<polygon fill=\"black\" points=\"5006.5,-479.299 5003,-469.299 4999.5,-479.299 5006.5,-479.299\" stroke=\"black\"/>\n",
       "</g>\n",
       "<!-- 68 -->\n",
       "<g class=\"node\" id=\"node69\"><title>68</title>\n",
       "<polygon fill=\"none\" points=\"5480,-469 5254,-469 5254,-401 5480,-401 5480,-469\" stroke=\"black\"/>\n",
       "<text font-family=\"Times New Roman,serif\" font-size=\"14.00\" text-anchor=\"middle\" x=\"5367\" y=\"-453.8\">X[3] &lt;= 1.301</text>\n",
       "<text font-family=\"Times New Roman,serif\" font-size=\"14.00\" text-anchor=\"middle\" x=\"5367\" y=\"-438.8\">gini = 0.456</text>\n",
       "<text font-family=\"Times New Roman,serif\" font-size=\"14.00\" text-anchor=\"middle\" x=\"5367\" y=\"-423.8\">samples = 41</text>\n",
       "<text font-family=\"Times New Roman,serif\" font-size=\"14.00\" text-anchor=\"middle\" x=\"5367\" y=\"-408.8\">value = [0, 0, 0, 29, 5, 7, 0, 0, 0, 0, 0]</text>\n",
       "</g>\n",
       "<!-- 64&#45;&gt;68 -->\n",
       "<g class=\"edge\" id=\"edge68\"><title>64-&gt;68</title>\n",
       "<path d=\"M5119.67,-505.306C5159.34,-494.189 5203.79,-481.735 5243.94,-470.483\" fill=\"none\" stroke=\"black\"/>\n",
       "<polygon fill=\"black\" points=\"5245.1,-473.795 5253.78,-467.726 5243.21,-467.054 5245.1,-473.795\" stroke=\"black\"/>\n",
       "</g>\n",
       "<!-- 66 -->\n",
       "<g class=\"node\" id=\"node67\"><title>66</title>\n",
       "<polygon fill=\"none\" points=\"4991.5,-357.5 4772.5,-357.5 4772.5,-304.5 4991.5,-304.5 4991.5,-357.5\" stroke=\"black\"/>\n",
       "<text font-family=\"Times New Roman,serif\" font-size=\"14.00\" text-anchor=\"middle\" x=\"4882\" y=\"-342.3\">gini = 0.48</text>\n",
       "<text font-family=\"Times New Roman,serif\" font-size=\"14.00\" text-anchor=\"middle\" x=\"4882\" y=\"-327.3\">samples = 10</text>\n",
       "<text font-family=\"Times New Roman,serif\" font-size=\"14.00\" text-anchor=\"middle\" x=\"4882\" y=\"-312.3\">value = [0, 0, 4, 6, 0, 0, 0, 0, 0, 0, 0]</text>\n",
       "</g>\n",
       "<!-- 65&#45;&gt;66 -->\n",
       "<g class=\"edge\" id=\"edge66\"><title>65-&gt;66</title>\n",
       "<path d=\"M4963.71,-400.884C4949.76,-389.116 4934.07,-375.894 4920.2,-364.203\" fill=\"none\" stroke=\"black\"/>\n",
       "<polygon fill=\"black\" points=\"4922.18,-361.289 4912.27,-357.52 4917.66,-366.641 4922.18,-361.289\" stroke=\"black\"/>\n",
       "</g>\n",
       "<!-- 67 -->\n",
       "<g class=\"node\" id=\"node68\"><title>67</title>\n",
       "<polygon fill=\"none\" points=\"5236,-357.5 5010,-357.5 5010,-304.5 5236,-304.5 5236,-357.5\" stroke=\"black\"/>\n",
       "<text font-family=\"Times New Roman,serif\" font-size=\"14.00\" text-anchor=\"middle\" x=\"5123\" y=\"-342.3\">gini = 0.0</text>\n",
       "<text font-family=\"Times New Roman,serif\" font-size=\"14.00\" text-anchor=\"middle\" x=\"5123\" y=\"-327.3\">samples = 17</text>\n",
       "<text font-family=\"Times New Roman,serif\" font-size=\"14.00\" text-anchor=\"middle\" x=\"5123\" y=\"-312.3\">value = [0, 0, 17, 0, 0, 0, 0, 0, 0, 0, 0]</text>\n",
       "</g>\n",
       "<!-- 65&#45;&gt;67 -->\n",
       "<g class=\"edge\" id=\"edge67\"><title>65-&gt;67</title>\n",
       "<path d=\"M5041.96,-400.884C5055.8,-389.116 5071.36,-375.894 5085.11,-364.203\" fill=\"none\" stroke=\"black\"/>\n",
       "<polygon fill=\"black\" points=\"5087.62,-366.663 5092.98,-357.52 5083.09,-361.33 5087.62,-366.663\" stroke=\"black\"/>\n",
       "</g>\n",
       "<!-- 69 -->\n",
       "<g class=\"node\" id=\"node70\"><title>69</title>\n",
       "<polygon fill=\"none\" points=\"5480,-365 5254,-365 5254,-297 5480,-297 5480,-365\" stroke=\"black\"/>\n",
       "<text font-family=\"Times New Roman,serif\" font-size=\"14.00\" text-anchor=\"middle\" x=\"5367\" y=\"-349.8\">X[8] &lt;= -0.018</text>\n",
       "<text font-family=\"Times New Roman,serif\" font-size=\"14.00\" text-anchor=\"middle\" x=\"5367\" y=\"-334.8\">gini = 0.064</text>\n",
       "<text font-family=\"Times New Roman,serif\" font-size=\"14.00\" text-anchor=\"middle\" x=\"5367\" y=\"-319.8\">samples = 30</text>\n",
       "<text font-family=\"Times New Roman,serif\" font-size=\"14.00\" text-anchor=\"middle\" x=\"5367\" y=\"-304.8\">value = [0, 0, 0, 29, 0, 1, 0, 0, 0, 0, 0]</text>\n",
       "</g>\n",
       "<!-- 68&#45;&gt;69 -->\n",
       "<g class=\"edge\" id=\"edge69\"><title>68-&gt;69</title>\n",
       "<path d=\"M5367,-400.884C5367,-392.778 5367,-383.982 5367,-375.472\" fill=\"none\" stroke=\"black\"/>\n",
       "<polygon fill=\"black\" points=\"5370.5,-375.299 5367,-365.299 5363.5,-375.299 5370.5,-375.299\" stroke=\"black\"/>\n",
       "</g>\n",
       "<!-- 72 -->\n",
       "<g class=\"node\" id=\"node73\"><title>72</title>\n",
       "<polygon fill=\"none\" points=\"5717.5,-357.5 5498.5,-357.5 5498.5,-304.5 5717.5,-304.5 5717.5,-357.5\" stroke=\"black\"/>\n",
       "<text font-family=\"Times New Roman,serif\" font-size=\"14.00\" text-anchor=\"middle\" x=\"5608\" y=\"-342.3\">gini = 0.496</text>\n",
       "<text font-family=\"Times New Roman,serif\" font-size=\"14.00\" text-anchor=\"middle\" x=\"5608\" y=\"-327.3\">samples = 11</text>\n",
       "<text font-family=\"Times New Roman,serif\" font-size=\"14.00\" text-anchor=\"middle\" x=\"5608\" y=\"-312.3\">value = [0, 0, 0, 0, 5, 6, 0, 0, 0, 0, 0]</text>\n",
       "</g>\n",
       "<!-- 68&#45;&gt;72 -->\n",
       "<g class=\"edge\" id=\"edge72\"><title>68-&gt;72</title>\n",
       "<path d=\"M5445.25,-400.884C5475.26,-388.181 5509.28,-373.784 5538.42,-361.448\" fill=\"none\" stroke=\"black\"/>\n",
       "<polygon fill=\"black\" points=\"5539.86,-364.641 5547.7,-357.52 5537.13,-358.194 5539.86,-364.641\" stroke=\"black\"/>\n",
       "</g>\n",
       "<!-- 70 -->\n",
       "<g class=\"node\" id=\"node71\"><title>70</title>\n",
       "<polygon fill=\"none\" points=\"5359,-253.5 5133,-253.5 5133,-200.5 5359,-200.5 5359,-253.5\" stroke=\"black\"/>\n",
       "<text font-family=\"Times New Roman,serif\" font-size=\"14.00\" text-anchor=\"middle\" x=\"5246\" y=\"-238.3\">gini = 0.0</text>\n",
       "<text font-family=\"Times New Roman,serif\" font-size=\"14.00\" text-anchor=\"middle\" x=\"5246\" y=\"-223.3\">samples = 20</text>\n",
       "<text font-family=\"Times New Roman,serif\" font-size=\"14.00\" text-anchor=\"middle\" x=\"5246\" y=\"-208.3\">value = [0, 0, 0, 20, 0, 0, 0, 0, 0, 0, 0]</text>\n",
       "</g>\n",
       "<!-- 69&#45;&gt;70 -->\n",
       "<g class=\"edge\" id=\"edge70\"><title>69-&gt;70</title>\n",
       "<path d=\"M5327.71,-296.884C5313.76,-285.116 5298.07,-271.894 5284.2,-260.203\" fill=\"none\" stroke=\"black\"/>\n",
       "<polygon fill=\"black\" points=\"5286.18,-257.289 5276.27,-253.52 5281.66,-262.641 5286.18,-257.289\" stroke=\"black\"/>\n",
       "</g>\n",
       "<!-- 71 -->\n",
       "<g class=\"node\" id=\"node72\"><title>71</title>\n",
       "<polygon fill=\"none\" points=\"5596.5,-253.5 5377.5,-253.5 5377.5,-200.5 5596.5,-200.5 5596.5,-253.5\" stroke=\"black\"/>\n",
       "<text font-family=\"Times New Roman,serif\" font-size=\"14.00\" text-anchor=\"middle\" x=\"5487\" y=\"-238.3\">gini = 0.18</text>\n",
       "<text font-family=\"Times New Roman,serif\" font-size=\"14.00\" text-anchor=\"middle\" x=\"5487\" y=\"-223.3\">samples = 10</text>\n",
       "<text font-family=\"Times New Roman,serif\" font-size=\"14.00\" text-anchor=\"middle\" x=\"5487\" y=\"-208.3\">value = [0, 0, 0, 9, 0, 1, 0, 0, 0, 0, 0]</text>\n",
       "</g>\n",
       "<!-- 69&#45;&gt;71 -->\n",
       "<g class=\"edge\" id=\"edge71\"><title>69-&gt;71</title>\n",
       "<path d=\"M5405.96,-296.884C5419.8,-285.116 5435.36,-271.894 5449.11,-260.203\" fill=\"none\" stroke=\"black\"/>\n",
       "<polygon fill=\"black\" points=\"5451.62,-262.663 5456.98,-253.52 5447.09,-257.33 5451.62,-262.663\" stroke=\"black\"/>\n",
       "</g>\n",
       "</g>\n",
       "</svg>"
      ],
      "text/plain": [
       "<IPython.core.display.SVG object>"
      ]
     },
     "execution_count": 166,
     "metadata": {},
     "output_type": "execute_result"
    }
   ],
   "source": [
    "profondeur_final = 8\n",
    "arbre_final = DecisionTreeClassifier(min_samples_leaf = 10, max_depth = profondeur_final)\n",
    "arbre_final_fit = arbre_final.fit(X_train, Y_train)\n",
    "graph = Source( tree.export_graphviz(arbre_final_fit, out_file=None, feature_names=None))\n",
    "SVG(graph.pipe(format='svg'))"
   ]
  },
  {
   "cell_type": "markdown",
   "metadata": {},
   "source": [
    "(L'arbre est plus lisible dans le fichier fig.)"
   ]
  },
  {
   "cell_type": "markdown",
   "metadata": {},
   "source": [
    "# 7. Choix Meilleur Classifieur"
   ]
  },
  {
   "cell_type": "markdown",
   "metadata": {},
   "source": [
    "#### Comparaison de l'accuracy score de tous les models "
   ]
  },
  {
   "cell_type": "code",
   "execution_count": 167,
   "metadata": {},
   "outputs": [
    {
     "name": "stdout",
     "output_type": "stream",
     "text": [
      "L'accuracy-score pour le Classsifieur Naive Bayes est : 0.461038961038961\n",
      "L'accuracy-score pour le Classifieur LDA est : 0.44372294372294374\n",
      "L'accuracy-score pour le Classifieur QDA est : 0.47186147186147187\n",
      "L'accuracy-score pour le Classifier KNN est : 0.6193181818181818\n",
      "L'accuracy-score pour le Classifieur DecisionTree est : 0.4981060606060606\n"
     ]
    }
   ],
   "source": [
    "print(\"L'accuracy-score pour le Classsifieur Naive Bayes est :\" ,score_test_NB)\n",
    "print(\"L'accuracy-score pour le Classifieur LDA est :\" ,score_test_LDA)\n",
    "print(\"L'accuracy-score pour le Classifieur QDA est :\" ,score_test_QDA)\n",
    "print(\"L'accuracy-score pour le Classifier KNN est :\" ,knn_cv_best_k.best_score_)\n",
    "print(\"L'accuracy-score pour le Classifieur DecisionTree est :\" ,arbre_cv_best_depth.best_score_)"
   ]
  },
  {
   "cell_type": "markdown",
   "metadata": {},
   "source": [
    "Le meilleur Classifier est le KNN."
   ]
  }
 ],
 "metadata": {
  "kernelspec": {
   "display_name": "Python 3",
   "language": "python",
   "name": "python3"
  },
  "language_info": {
   "codemirror_mode": {
    "name": "ipython",
    "version": 3
   },
   "file_extension": ".py",
   "mimetype": "text/x-python",
   "name": "python",
   "nbconvert_exporter": "python",
   "pygments_lexer": "ipython3",
   "version": "3.6.8"
  }
 },
 "nbformat": 4,
 "nbformat_minor": 2
}
